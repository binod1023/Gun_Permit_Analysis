{
 "cells": [
  {
   "cell_type": "markdown",
   "metadata": {},
   "source": [
    "> **Tip**: Welcome to the Investigate a Dataset project! You will find tips in quoted sections like this to help organize your approach to your investigation. Before submitting your project, it will be a good idea to go back through your report and remove these sections to make the presentation of your work as tidy as possible. First things first, you might want to double-click this Markdown cell and change the title so that it reflects your dataset and investigation.\n",
    "\n",
    "# Project: Gun Data Analysis \n",
    "\n",
    "## Table of Contents\n",
    "<ul>\n",
    "<li><a href=\"#intro\">Introduction</a></li>\n",
    "<li><a href=\"#wrangling\">Data Wrangling</a></li>\n",
    "<li><a href=\"#eda\">Exploratory Data Analysis</a></li>\n",
    "<li><a href=\"#conclusions\">Conclusions</a></li>\n",
    "</ul>"
   ]
  },
  {
   "cell_type": "markdown",
   "metadata": {},
   "source": [
    "<a id='intro'></a>\n",
    "## Introduction\n",
    "Decription of dataset\n",
    "\n",
    "This dataset recorded month-by-month records of NICS firearms checks across all states from November 1998 to January 1, 2021.\n",
    "Each column represents the type of transaction submitted to the National Instant Criminal Background Check System (NICS). In addition, each type of transaction is broken down by the type of firearm—handgun, long gun, and other.\n",
    "\n",
    "The following columns are transactions issued by officially-licensed Federal Firearms Licensee (FFL) or criminal justice/law enforcement agency prior to the issuance of a firearm-related permit or transfer.\n",
    "permit\n",
    "permit_recheck\n",
    "handgun\n",
    "long_gun\n",
    "other\n",
    "mutiple\n",
    "admin\n",
    "\n",
    "The following columns are from other transactions\n",
    "-Pre-Pawn: background checks requested by an officially-licensed FFL on prospective firearm transferees seeking to pledge or pawn a firearm as security for the payment or repayment of money, prior to actually pledging or pawning the firearm.\n",
    "\n",
    "-Redemption: background checks requested by an officially-licensed FFL on prospective firearm transferees attempting to regain possession of a firearm after pledging or pawning a firearm as security at a pawn shop.\n",
    "\n",
    "-Returned/Disposition: background checks requested by criminal justice/law enforcement agencies prior to returning a firearm in its possession to the respective transferee, to ensure the individual is not prohibited.\n",
    "\n",
    "-Rentals: background checks requested by an officially-licensed FFL on prospective firearm transferees attempting to possess a firearm when the firearm is loaned or rented for use off the premises of the business.\n",
    "\n",
    "-Private Sale: background checks requested by an officially-licensed FFL on prospective firearm transferees attempting to possess a firearm from a private party seller who is not an officially-licensed FFL.\n",
    "\n",
    "-Return to Seller-Private Sale: background checks requested by an officially-licensed FFL on prospective firearm transferees attempting to possess a firearm from a private party seller who is not an officially-licensed FFL.\n",
    "\n",
    "From this dataset, we can investigate followings:\n",
    "\n",
    "*How gun background check has changed across different states?\n",
    "*Which types of gun are mainly registerred?\n",
    "*Which month had the highest gun registrations?\n",
    "*What is the trend of gun registrations across given year periods?\n",
    "\n",
    "In this project we will be analyzing data associated with gun background checks. In particular, we will be interested in analyzing \n",
    "\n",
    "*how gun registraction has changed over the years, and\n",
    "*Which states have had the highes growth of gun registration?\n",
    "*Which gun type got the higest background checks?\n",
    "\n",
    "> **Tip**: In this section of the report, provide a brief introduction to the dataset you've selected for analysis. At the end of this section, describe the questions that you plan on exploring over the course of the report. Try to build your report around the analysis of at least one dependent variable and three independent variables. If you're not sure what questions to ask, then make sure you familiarize yourself with the dataset, its variables and the dataset context for ideas of what to explore.\n",
    "\n",
    "> If you haven't yet selected and downloaded your data, make sure you do that first before coming back here. In order to work with the data in this workspace, you also need to upload it to the workspace. To do so, click on the jupyter icon in the upper left to be taken back to the workspace directory. There should be an 'Upload' button in the upper right that will let you add your data file(s) to the workspace. You can then click on the .ipynb file name to come back here."
   ]
  },
  {
   "cell_type": "code",
   "execution_count": 1,
   "metadata": {},
   "outputs": [],
   "source": [
    "# Use this cell to set up import statements for all of the packages that you\n",
    "#   plan to use.\n",
    "\n",
    "# Remember to include a 'magic word' so that your visualizations are plotted\n",
    "#   inline with the notebook. See this page for more:\n",
    "#   http://ipython.readthedocs.io/en/stable/interactive/magics.html\n",
    "import pandas as pd\n",
    "import numpy as np\n",
    "import matplotlib.pyplot as plt\n",
    "import seaborn as sns\n",
    "%matplotlib inline"
   ]
  },
  {
   "cell_type": "markdown",
   "metadata": {},
   "source": []
  },
  {
   "cell_type": "markdown",
   "metadata": {},
   "source": [
    "<a id='wrangling'></a>\n",
    "## Data Wrangling\n",
    "\n",
    "> **Tip**: In this section of the report, you will load in the data, check for cleanliness, and then trim and clean your dataset for analysis. Make sure that you document your steps carefully and justify your cleaning decisions.\n",
    "\n",
    "### General Properties"
   ]
  },
  {
   "cell_type": "code",
   "execution_count": 2,
   "metadata": {},
   "outputs": [
    {
     "data": {
      "text/html": [
       "<div>\n",
       "<style scoped>\n",
       "    .dataframe tbody tr th:only-of-type {\n",
       "        vertical-align: middle;\n",
       "    }\n",
       "\n",
       "    .dataframe tbody tr th {\n",
       "        vertical-align: top;\n",
       "    }\n",
       "\n",
       "    .dataframe thead th {\n",
       "        text-align: right;\n",
       "    }\n",
       "</style>\n",
       "<table border=\"1\" class=\"dataframe\">\n",
       "  <thead>\n",
       "    <tr style=\"text-align: right;\">\n",
       "      <th></th>\n",
       "      <th>month</th>\n",
       "      <th>state</th>\n",
       "      <th>permit</th>\n",
       "      <th>permit_recheck</th>\n",
       "      <th>handgun</th>\n",
       "      <th>long_gun</th>\n",
       "      <th>other</th>\n",
       "      <th>multiple</th>\n",
       "      <th>admin</th>\n",
       "      <th>prepawn_handgun</th>\n",
       "      <th>...</th>\n",
       "      <th>returned_other</th>\n",
       "      <th>rentals_handgun</th>\n",
       "      <th>rentals_long_gun</th>\n",
       "      <th>private_sale_handgun</th>\n",
       "      <th>private_sale_long_gun</th>\n",
       "      <th>private_sale_other</th>\n",
       "      <th>return_to_seller_handgun</th>\n",
       "      <th>return_to_seller_long_gun</th>\n",
       "      <th>return_to_seller_other</th>\n",
       "      <th>totals</th>\n",
       "    </tr>\n",
       "  </thead>\n",
       "  <tbody>\n",
       "    <tr>\n",
       "      <th>0</th>\n",
       "      <td>1/1/2021</td>\n",
       "      <td>Alabama</td>\n",
       "      <td>39955.0</td>\n",
       "      <td>464.0</td>\n",
       "      <td>33563.0</td>\n",
       "      <td>23477.0</td>\n",
       "      <td>2309.0</td>\n",
       "      <td>1568</td>\n",
       "      <td>0.0</td>\n",
       "      <td>26.0</td>\n",
       "      <td>...</td>\n",
       "      <td>0.0</td>\n",
       "      <td>0.0</td>\n",
       "      <td>0.0</td>\n",
       "      <td>25.0</td>\n",
       "      <td>34.0</td>\n",
       "      <td>14.0</td>\n",
       "      <td>0.0</td>\n",
       "      <td>2.0</td>\n",
       "      <td>0.0</td>\n",
       "      <td>105602</td>\n",
       "    </tr>\n",
       "    <tr>\n",
       "      <th>1</th>\n",
       "      <td>1/1/2021</td>\n",
       "      <td>Alaska</td>\n",
       "      <td>283.0</td>\n",
       "      <td>4.0</td>\n",
       "      <td>3989.0</td>\n",
       "      <td>3574.0</td>\n",
       "      <td>563.0</td>\n",
       "      <td>262</td>\n",
       "      <td>0.0</td>\n",
       "      <td>1.0</td>\n",
       "      <td>...</td>\n",
       "      <td>0.0</td>\n",
       "      <td>0.0</td>\n",
       "      <td>0.0</td>\n",
       "      <td>7.0</td>\n",
       "      <td>18.0</td>\n",
       "      <td>2.0</td>\n",
       "      <td>0.0</td>\n",
       "      <td>0.0</td>\n",
       "      <td>0.0</td>\n",
       "      <td>9018</td>\n",
       "    </tr>\n",
       "    <tr>\n",
       "      <th>2</th>\n",
       "      <td>1/1/2021</td>\n",
       "      <td>Arizona</td>\n",
       "      <td>9237.0</td>\n",
       "      <td>1085.0</td>\n",
       "      <td>29336.0</td>\n",
       "      <td>14430.0</td>\n",
       "      <td>2339.0</td>\n",
       "      <td>1795</td>\n",
       "      <td>0.0</td>\n",
       "      <td>12.0</td>\n",
       "      <td>...</td>\n",
       "      <td>0.0</td>\n",
       "      <td>0.0</td>\n",
       "      <td>0.0</td>\n",
       "      <td>22.0</td>\n",
       "      <td>17.0</td>\n",
       "      <td>3.0</td>\n",
       "      <td>2.0</td>\n",
       "      <td>0.0</td>\n",
       "      <td>2.0</td>\n",
       "      <td>60548</td>\n",
       "    </tr>\n",
       "    <tr>\n",
       "      <th>3</th>\n",
       "      <td>1/1/2021</td>\n",
       "      <td>Arkansas</td>\n",
       "      <td>3231.0</td>\n",
       "      <td>1028.0</td>\n",
       "      <td>11993.0</td>\n",
       "      <td>10043.0</td>\n",
       "      <td>715.0</td>\n",
       "      <td>596</td>\n",
       "      <td>15.0</td>\n",
       "      <td>15.0</td>\n",
       "      <td>...</td>\n",
       "      <td>0.0</td>\n",
       "      <td>0.0</td>\n",
       "      <td>0.0</td>\n",
       "      <td>21.0</td>\n",
       "      <td>13.0</td>\n",
       "      <td>2.0</td>\n",
       "      <td>1.0</td>\n",
       "      <td>0.0</td>\n",
       "      <td>0.0</td>\n",
       "      <td>30085</td>\n",
       "    </tr>\n",
       "    <tr>\n",
       "      <th>4</th>\n",
       "      <td>1/1/2021</td>\n",
       "      <td>California</td>\n",
       "      <td>19078.0</td>\n",
       "      <td>6462.0</td>\n",
       "      <td>55103.0</td>\n",
       "      <td>36179.0</td>\n",
       "      <td>6807.0</td>\n",
       "      <td>0</td>\n",
       "      <td>0.0</td>\n",
       "      <td>2.0</td>\n",
       "      <td>...</td>\n",
       "      <td>86.0</td>\n",
       "      <td>0.0</td>\n",
       "      <td>0.0</td>\n",
       "      <td>5744.0</td>\n",
       "      <td>2282.0</td>\n",
       "      <td>528.0</td>\n",
       "      <td>55.0</td>\n",
       "      <td>33.0</td>\n",
       "      <td>1.0</td>\n",
       "      <td>134432</td>\n",
       "    </tr>\n",
       "  </tbody>\n",
       "</table>\n",
       "<p>5 rows × 27 columns</p>\n",
       "</div>"
      ],
      "text/plain": [
       "      month       state   permit  permit_recheck  handgun  long_gun   other  \\\n",
       "0  1/1/2021     Alabama  39955.0           464.0  33563.0   23477.0  2309.0   \n",
       "1  1/1/2021      Alaska    283.0             4.0   3989.0    3574.0   563.0   \n",
       "2  1/1/2021     Arizona   9237.0          1085.0  29336.0   14430.0  2339.0   \n",
       "3  1/1/2021    Arkansas   3231.0          1028.0  11993.0   10043.0   715.0   \n",
       "4  1/1/2021  California  19078.0          6462.0  55103.0   36179.0  6807.0   \n",
       "\n",
       "   multiple  admin  prepawn_handgun   ...    returned_other  rentals_handgun  \\\n",
       "0      1568    0.0             26.0   ...               0.0              0.0   \n",
       "1       262    0.0              1.0   ...               0.0              0.0   \n",
       "2      1795    0.0             12.0   ...               0.0              0.0   \n",
       "3       596   15.0             15.0   ...               0.0              0.0   \n",
       "4         0    0.0              2.0   ...              86.0              0.0   \n",
       "\n",
       "   rentals_long_gun  private_sale_handgun  private_sale_long_gun  \\\n",
       "0               0.0                  25.0                   34.0   \n",
       "1               0.0                   7.0                   18.0   \n",
       "2               0.0                  22.0                   17.0   \n",
       "3               0.0                  21.0                   13.0   \n",
       "4               0.0                5744.0                 2282.0   \n",
       "\n",
       "   private_sale_other  return_to_seller_handgun  return_to_seller_long_gun  \\\n",
       "0                14.0                       0.0                        2.0   \n",
       "1                 2.0                       0.0                        0.0   \n",
       "2                 3.0                       2.0                        0.0   \n",
       "3                 2.0                       1.0                        0.0   \n",
       "4               528.0                      55.0                       33.0   \n",
       "\n",
       "   return_to_seller_other  totals  \n",
       "0                     0.0  105602  \n",
       "1                     0.0    9018  \n",
       "2                     2.0   60548  \n",
       "3                     0.0   30085  \n",
       "4                     1.0  134432  \n",
       "\n",
       "[5 rows x 27 columns]"
      ]
     },
     "execution_count": 2,
     "metadata": {},
     "output_type": "execute_result"
    }
   ],
   "source": [
    "# Load your data and print out a few lines. Perform operations to inspect data\n",
    "#   types and look for instances of missing or possibly errant data.\n",
    "df=pd.read_csv(\"Gun_data.csv\")\n",
    "# few head columns\n",
    "df.head(5)"
   ]
  },
  {
   "cell_type": "code",
   "execution_count": 3,
   "metadata": {},
   "outputs": [
    {
     "data": {
      "text/plain": [
       "(14685, 27)"
      ]
     },
     "execution_count": 3,
     "metadata": {},
     "output_type": "execute_result"
    }
   ],
   "source": [
    "df.shape"
   ]
  },
  {
   "cell_type": "code",
   "execution_count": 4,
   "metadata": {},
   "outputs": [
    {
     "name": "stdout",
     "output_type": "stream",
     "text": [
      "<class 'pandas.core.frame.DataFrame'>\n",
      "RangeIndex: 14685 entries, 0 to 14684\n",
      "Data columns (total 27 columns):\n",
      "month                        14685 non-null object\n",
      "state                        14685 non-null object\n",
      "permit                       14661 non-null float64\n",
      "permit_recheck               3300 non-null float64\n",
      "handgun                      14665 non-null float64\n",
      "long_gun                     14666 non-null float64\n",
      "other                        7700 non-null float64\n",
      "multiple                     14685 non-null int64\n",
      "admin                        14662 non-null float64\n",
      "prepawn_handgun              12742 non-null float64\n",
      "prepawn_long_gun             12740 non-null float64\n",
      "prepawn_other                7315 non-null float64\n",
      "redemption_handgun           12745 non-null float64\n",
      "redemption_long_gun          12744 non-null float64\n",
      "redemption_other             7315 non-null float64\n",
      "returned_handgun             4400 non-null float64\n",
      "returned_long_gun            4345 non-null float64\n",
      "returned_other               4015 non-null float64\n",
      "rentals_handgun              3190 non-null float64\n",
      "rentals_long_gun             3025 non-null float64\n",
      "private_sale_handgun         4950 non-null float64\n",
      "private_sale_long_gun        4950 non-null float64\n",
      "private_sale_other           4950 non-null float64\n",
      "return_to_seller_handgun     4675 non-null float64\n",
      "return_to_seller_long_gun    4950 non-null float64\n",
      "return_to_seller_other       4455 non-null float64\n",
      "totals                       14685 non-null int64\n",
      "dtypes: float64(23), int64(2), object(2)\n",
      "memory usage: 3.0+ MB\n"
     ]
    }
   ],
   "source": [
    "# columns and data types\n",
    "df.info()"
   ]
  },
  {
   "cell_type": "code",
   "execution_count": 5,
   "metadata": {},
   "outputs": [
    {
     "data": {
      "text/html": [
       "<div>\n",
       "<style scoped>\n",
       "    .dataframe tbody tr th:only-of-type {\n",
       "        vertical-align: middle;\n",
       "    }\n",
       "\n",
       "    .dataframe tbody tr th {\n",
       "        vertical-align: top;\n",
       "    }\n",
       "\n",
       "    .dataframe thead th {\n",
       "        text-align: right;\n",
       "    }\n",
       "</style>\n",
       "<table border=\"1\" class=\"dataframe\">\n",
       "  <thead>\n",
       "    <tr style=\"text-align: right;\">\n",
       "      <th></th>\n",
       "      <th>permit</th>\n",
       "      <th>permit_recheck</th>\n",
       "      <th>handgun</th>\n",
       "      <th>long_gun</th>\n",
       "      <th>other</th>\n",
       "      <th>multiple</th>\n",
       "      <th>admin</th>\n",
       "      <th>prepawn_handgun</th>\n",
       "      <th>prepawn_long_gun</th>\n",
       "      <th>prepawn_other</th>\n",
       "      <th>...</th>\n",
       "      <th>returned_other</th>\n",
       "      <th>rentals_handgun</th>\n",
       "      <th>rentals_long_gun</th>\n",
       "      <th>private_sale_handgun</th>\n",
       "      <th>private_sale_long_gun</th>\n",
       "      <th>private_sale_other</th>\n",
       "      <th>return_to_seller_handgun</th>\n",
       "      <th>return_to_seller_long_gun</th>\n",
       "      <th>return_to_seller_other</th>\n",
       "      <th>totals</th>\n",
       "    </tr>\n",
       "  </thead>\n",
       "  <tbody>\n",
       "    <tr>\n",
       "      <th>count</th>\n",
       "      <td>14661.000000</td>\n",
       "      <td>3300.000000</td>\n",
       "      <td>14665.000000</td>\n",
       "      <td>14666.000000</td>\n",
       "      <td>7700.000000</td>\n",
       "      <td>14685.000000</td>\n",
       "      <td>14662.000000</td>\n",
       "      <td>12742.000000</td>\n",
       "      <td>12740.000000</td>\n",
       "      <td>7315.000000</td>\n",
       "      <td>...</td>\n",
       "      <td>4015.000000</td>\n",
       "      <td>3190.000000</td>\n",
       "      <td>3025.000000</td>\n",
       "      <td>4950.000000</td>\n",
       "      <td>4950.000000</td>\n",
       "      <td>4950.000000</td>\n",
       "      <td>4675.000000</td>\n",
       "      <td>4950.000000</td>\n",
       "      <td>4455.000000</td>\n",
       "      <td>1.468500e+04</td>\n",
       "    </tr>\n",
       "    <tr>\n",
       "      <th>mean</th>\n",
       "      <td>7213.370029</td>\n",
       "      <td>7922.146364</td>\n",
       "      <td>6985.187794</td>\n",
       "      <td>7956.539479</td>\n",
       "      <td>530.454935</td>\n",
       "      <td>297.300306</td>\n",
       "      <td>53.275065</td>\n",
       "      <td>5.166536</td>\n",
       "      <td>7.573783</td>\n",
       "      <td>0.368148</td>\n",
       "      <td>...</td>\n",
       "      <td>2.797011</td>\n",
       "      <td>0.149216</td>\n",
       "      <td>0.160331</td>\n",
       "      <td>27.087273</td>\n",
       "      <td>20.799394</td>\n",
       "      <td>3.161818</td>\n",
       "      <td>0.908449</td>\n",
       "      <td>0.889091</td>\n",
       "      <td>0.123008</td>\n",
       "      <td>2.546674e+04</td>\n",
       "    </tr>\n",
       "    <tr>\n",
       "      <th>std</th>\n",
       "      <td>26122.902080</td>\n",
       "      <td>51397.138867</td>\n",
       "      <td>10417.757938</td>\n",
       "      <td>9230.918721</td>\n",
       "      <td>1371.413576</td>\n",
       "      <td>780.371618</td>\n",
       "      <td>565.368131</td>\n",
       "      <td>11.410729</td>\n",
       "      <td>15.919615</td>\n",
       "      <td>1.372091</td>\n",
       "      <td>...</td>\n",
       "      <td>22.134771</td>\n",
       "      <td>1.010601</td>\n",
       "      <td>1.004165</td>\n",
       "      <td>122.772337</td>\n",
       "      <td>79.037650</td>\n",
       "      <td>15.299881</td>\n",
       "      <td>4.565147</td>\n",
       "      <td>3.826984</td>\n",
       "      <td>0.445148</td>\n",
       "      <td>4.461691e+04</td>\n",
       "    </tr>\n",
       "    <tr>\n",
       "      <th>min</th>\n",
       "      <td>0.000000</td>\n",
       "      <td>0.000000</td>\n",
       "      <td>0.000000</td>\n",
       "      <td>0.000000</td>\n",
       "      <td>0.000000</td>\n",
       "      <td>0.000000</td>\n",
       "      <td>0.000000</td>\n",
       "      <td>0.000000</td>\n",
       "      <td>0.000000</td>\n",
       "      <td>0.000000</td>\n",
       "      <td>...</td>\n",
       "      <td>0.000000</td>\n",
       "      <td>0.000000</td>\n",
       "      <td>0.000000</td>\n",
       "      <td>0.000000</td>\n",
       "      <td>0.000000</td>\n",
       "      <td>0.000000</td>\n",
       "      <td>0.000000</td>\n",
       "      <td>0.000000</td>\n",
       "      <td>0.000000</td>\n",
       "      <td>0.000000e+00</td>\n",
       "    </tr>\n",
       "    <tr>\n",
       "      <th>25%</th>\n",
       "      <td>0.000000</td>\n",
       "      <td>0.000000</td>\n",
       "      <td>1028.000000</td>\n",
       "      <td>2165.000000</td>\n",
       "      <td>28.000000</td>\n",
       "      <td>14.000000</td>\n",
       "      <td>0.000000</td>\n",
       "      <td>0.000000</td>\n",
       "      <td>0.000000</td>\n",
       "      <td>0.000000</td>\n",
       "      <td>...</td>\n",
       "      <td>0.000000</td>\n",
       "      <td>0.000000</td>\n",
       "      <td>0.000000</td>\n",
       "      <td>0.000000</td>\n",
       "      <td>0.000000</td>\n",
       "      <td>0.000000</td>\n",
       "      <td>0.000000</td>\n",
       "      <td>0.000000</td>\n",
       "      <td>0.000000</td>\n",
       "      <td>5.011000e+03</td>\n",
       "    </tr>\n",
       "    <tr>\n",
       "      <th>50%</th>\n",
       "      <td>785.000000</td>\n",
       "      <td>0.000000</td>\n",
       "      <td>3478.000000</td>\n",
       "      <td>5251.000000</td>\n",
       "      <td>175.000000</td>\n",
       "      <td>134.000000</td>\n",
       "      <td>0.000000</td>\n",
       "      <td>0.000000</td>\n",
       "      <td>1.000000</td>\n",
       "      <td>0.000000</td>\n",
       "      <td>...</td>\n",
       "      <td>0.000000</td>\n",
       "      <td>0.000000</td>\n",
       "      <td>0.000000</td>\n",
       "      <td>0.000000</td>\n",
       "      <td>0.000000</td>\n",
       "      <td>0.000000</td>\n",
       "      <td>0.000000</td>\n",
       "      <td>0.000000</td>\n",
       "      <td>0.000000</td>\n",
       "      <td>1.328400e+04</td>\n",
       "    </tr>\n",
       "    <tr>\n",
       "      <th>75%</th>\n",
       "      <td>5467.000000</td>\n",
       "      <td>59.250000</td>\n",
       "      <td>8479.000000</td>\n",
       "      <td>10716.750000</td>\n",
       "      <td>538.000000</td>\n",
       "      <td>329.000000</td>\n",
       "      <td>0.000000</td>\n",
       "      <td>5.000000</td>\n",
       "      <td>8.000000</td>\n",
       "      <td>0.000000</td>\n",
       "      <td>...</td>\n",
       "      <td>1.000000</td>\n",
       "      <td>0.000000</td>\n",
       "      <td>0.000000</td>\n",
       "      <td>13.000000</td>\n",
       "      <td>13.000000</td>\n",
       "      <td>1.000000</td>\n",
       "      <td>0.000000</td>\n",
       "      <td>0.000000</td>\n",
       "      <td>0.000000</td>\n",
       "      <td>2.877900e+04</td>\n",
       "    </tr>\n",
       "    <tr>\n",
       "      <th>max</th>\n",
       "      <td>522188.000000</td>\n",
       "      <td>912211.000000</td>\n",
       "      <td>147714.000000</td>\n",
       "      <td>108058.000000</td>\n",
       "      <td>77929.000000</td>\n",
       "      <td>38907.000000</td>\n",
       "      <td>28083.000000</td>\n",
       "      <td>164.000000</td>\n",
       "      <td>269.000000</td>\n",
       "      <td>49.000000</td>\n",
       "      <td>...</td>\n",
       "      <td>592.000000</td>\n",
       "      <td>13.000000</td>\n",
       "      <td>12.000000</td>\n",
       "      <td>5744.000000</td>\n",
       "      <td>2282.000000</td>\n",
       "      <td>528.000000</td>\n",
       "      <td>70.000000</td>\n",
       "      <td>62.000000</td>\n",
       "      <td>5.000000</td>\n",
       "      <td>1.002118e+06</td>\n",
       "    </tr>\n",
       "  </tbody>\n",
       "</table>\n",
       "<p>8 rows × 25 columns</p>\n",
       "</div>"
      ],
      "text/plain": [
       "              permit  permit_recheck        handgun       long_gun  \\\n",
       "count   14661.000000     3300.000000   14665.000000   14666.000000   \n",
       "mean     7213.370029     7922.146364    6985.187794    7956.539479   \n",
       "std     26122.902080    51397.138867   10417.757938    9230.918721   \n",
       "min         0.000000        0.000000       0.000000       0.000000   \n",
       "25%         0.000000        0.000000    1028.000000    2165.000000   \n",
       "50%       785.000000        0.000000    3478.000000    5251.000000   \n",
       "75%      5467.000000       59.250000    8479.000000   10716.750000   \n",
       "max    522188.000000   912211.000000  147714.000000  108058.000000   \n",
       "\n",
       "              other      multiple         admin  prepawn_handgun  \\\n",
       "count   7700.000000  14685.000000  14662.000000     12742.000000   \n",
       "mean     530.454935    297.300306     53.275065         5.166536   \n",
       "std     1371.413576    780.371618    565.368131        11.410729   \n",
       "min        0.000000      0.000000      0.000000         0.000000   \n",
       "25%       28.000000     14.000000      0.000000         0.000000   \n",
       "50%      175.000000    134.000000      0.000000         0.000000   \n",
       "75%      538.000000    329.000000      0.000000         5.000000   \n",
       "max    77929.000000  38907.000000  28083.000000       164.000000   \n",
       "\n",
       "       prepawn_long_gun  prepawn_other      ...       returned_other  \\\n",
       "count      12740.000000    7315.000000      ...          4015.000000   \n",
       "mean           7.573783       0.368148      ...             2.797011   \n",
       "std           15.919615       1.372091      ...            22.134771   \n",
       "min            0.000000       0.000000      ...             0.000000   \n",
       "25%            0.000000       0.000000      ...             0.000000   \n",
       "50%            1.000000       0.000000      ...             0.000000   \n",
       "75%            8.000000       0.000000      ...             1.000000   \n",
       "max          269.000000      49.000000      ...           592.000000   \n",
       "\n",
       "       rentals_handgun  rentals_long_gun  private_sale_handgun  \\\n",
       "count      3190.000000       3025.000000           4950.000000   \n",
       "mean          0.149216          0.160331             27.087273   \n",
       "std           1.010601          1.004165            122.772337   \n",
       "min           0.000000          0.000000              0.000000   \n",
       "25%           0.000000          0.000000              0.000000   \n",
       "50%           0.000000          0.000000              0.000000   \n",
       "75%           0.000000          0.000000             13.000000   \n",
       "max          13.000000         12.000000           5744.000000   \n",
       "\n",
       "       private_sale_long_gun  private_sale_other  return_to_seller_handgun  \\\n",
       "count            4950.000000         4950.000000               4675.000000   \n",
       "mean               20.799394            3.161818                  0.908449   \n",
       "std                79.037650           15.299881                  4.565147   \n",
       "min                 0.000000            0.000000                  0.000000   \n",
       "25%                 0.000000            0.000000                  0.000000   \n",
       "50%                 0.000000            0.000000                  0.000000   \n",
       "75%                13.000000            1.000000                  0.000000   \n",
       "max              2282.000000          528.000000                 70.000000   \n",
       "\n",
       "       return_to_seller_long_gun  return_to_seller_other        totals  \n",
       "count                4950.000000             4455.000000  1.468500e+04  \n",
       "mean                    0.889091                0.123008  2.546674e+04  \n",
       "std                     3.826984                0.445148  4.461691e+04  \n",
       "min                     0.000000                0.000000  0.000000e+00  \n",
       "25%                     0.000000                0.000000  5.011000e+03  \n",
       "50%                     0.000000                0.000000  1.328400e+04  \n",
       "75%                     0.000000                0.000000  2.877900e+04  \n",
       "max                    62.000000                5.000000  1.002118e+06  \n",
       "\n",
       "[8 rows x 25 columns]"
      ]
     },
     "execution_count": 5,
     "metadata": {},
     "output_type": "execute_result"
    }
   ],
   "source": [
    "# describetive statistics \n",
    "df.describe()\n"
   ]
  },
  {
   "cell_type": "markdown",
   "metadata": {},
   "source": [
    "Checking for duplicates"
   ]
  },
  {
   "cell_type": "code",
   "execution_count": 6,
   "metadata": {},
   "outputs": [
    {
     "data": {
      "text/plain": [
       "0"
      ]
     },
     "execution_count": 6,
     "metadata": {},
     "output_type": "execute_result"
    }
   ],
   "source": [
    "sum(df.duplicated())"
   ]
  },
  {
   "cell_type": "markdown",
   "metadata": {},
   "source": [
    "Checking for outliers by ploting histogram"
   ]
  },
  {
   "cell_type": "code",
   "execution_count": 7,
   "metadata": {},
   "outputs": [
    {
     "data": {
      "text/plain": [
       "array([[<matplotlib.axes._subplots.AxesSubplot object at 0x7f66ae9d1a58>,\n",
       "        <matplotlib.axes._subplots.AxesSubplot object at 0x7f66ac9c2b38>,\n",
       "        <matplotlib.axes._subplots.AxesSubplot object at 0x7f66ac97db38>,\n",
       "        <matplotlib.axes._subplots.AxesSubplot object at 0x7f66ac92f6d8>,\n",
       "        <matplotlib.axes._subplots.AxesSubplot object at 0x7f66ac8e95f8>],\n",
       "       [<matplotlib.axes._subplots.AxesSubplot object at 0x7f66ac8e9630>,\n",
       "        <matplotlib.axes._subplots.AxesSubplot object at 0x7f66ac8577b8>,\n",
       "        <matplotlib.axes._subplots.AxesSubplot object at 0x7f66ac8137b8>,\n",
       "        <matplotlib.axes._subplots.AxesSubplot object at 0x7f66ac7c6208>,\n",
       "        <matplotlib.axes._subplots.AxesSubplot object at 0x7f66ac7ff278>],\n",
       "       [<matplotlib.axes._subplots.AxesSubplot object at 0x7f66ac7ba278>,\n",
       "        <matplotlib.axes._subplots.AxesSubplot object at 0x7f66ac772278>,\n",
       "        <matplotlib.axes._subplots.AxesSubplot object at 0x7f66ac719eb8>,\n",
       "        <matplotlib.axes._subplots.AxesSubplot object at 0x7f66ac6d1f28>,\n",
       "        <matplotlib.axes._subplots.AxesSubplot object at 0x7f66ac68cf28>],\n",
       "       [<matplotlib.axes._subplots.AxesSubplot object at 0x7f66ac6c2f28>,\n",
       "        <matplotlib.axes._subplots.AxesSubplot object at 0x7f66ac6ab748>,\n",
       "        <matplotlib.axes._subplots.AxesSubplot object at 0x7f66ac630ac8>,\n",
       "        <matplotlib.axes._subplots.AxesSubplot object at 0x7f66ac5e9a58>,\n",
       "        <matplotlib.axes._subplots.AxesSubplot object at 0x7f66ac5a4a58>],\n",
       "       [<matplotlib.axes._subplots.AxesSubplot object at 0x7f66ac558f98>,\n",
       "        <matplotlib.axes._subplots.AxesSubplot object at 0x7f66ac50e588>,\n",
       "        <matplotlib.axes._subplots.AxesSubplot object at 0x7f66ac4c8588>,\n",
       "        <matplotlib.axes._subplots.AxesSubplot object at 0x7f66ac501588>,\n",
       "        <matplotlib.axes._subplots.AxesSubplot object at 0x7f66ac4b9ac8>]], dtype=object)"
      ]
     },
     "execution_count": 7,
     "metadata": {},
     "output_type": "execute_result"
    },
    {
     "data": {
      "image/png": "[encoded data removed]",
      "text/plain": [
       "<matplotlib.figure.Figure at 0x7f66ae9d14a8>"
      ]
     },
     "metadata": {
      "needs_background": "light"
     },
     "output_type": "display_data"
    }
   ],
   "source": [
    "df.hist(figsize=(12,12))"
   ]
  },
  {
   "cell_type": "markdown",
   "metadata": {},
   "source": [
    "> **Tip**: You should _not_ perform too many operations in each cell. Create cells freely to explore your data. One option that you can take with this project is to do a lot of explorations in an initial notebook. These don't have to be organized, but make sure you use enough comments to understand the purpose of each code cell. Then, after you're done with your analysis, create a duplicate notebook where you will trim the excess and organize your steps so that you have a flowing, cohesive report.\n",
    "\n",
    "> **Tip**: Make sure that you keep your reader informed on the steps that you are taking in your investigation. Follow every code cell, or every set of related code cells, with a markdown cell to describe to the reader what was found in the preceding cell(s). Try to make it so that the reader can then understand what they will be seeing in the following cell(s).\n",
    "\n",
    "### Data Cleaning (Replace this with more specific notes!)"
   ]
  },
  {
   "cell_type": "code",
   "execution_count": null,
   "metadata": {
    "collapsed": true
   },
   "outputs": [],
   "source": [
    "# After discussing the structure of the data and any problems that need to be\n",
    "#   cleaned, perform those cleaning steps in the second part of this section.\n"
   ]
  },
  {
   "cell_type": "markdown",
   "metadata": {},
   "source": [
    "checking for missing values"
   ]
  },
  {
   "cell_type": "code",
   "execution_count": 8,
   "metadata": {},
   "outputs": [
    {
     "data": {
      "text/plain": [
       "month                            0\n",
       "state                            0\n",
       "permit                          24\n",
       "permit_recheck               11385\n",
       "handgun                         20\n",
       "long_gun                        19\n",
       "other                         6985\n",
       "multiple                         0\n",
       "admin                           23\n",
       "prepawn_handgun               1943\n",
       "prepawn_long_gun              1945\n",
       "prepawn_other                 7370\n",
       "redemption_handgun            1940\n",
       "redemption_long_gun           1941\n",
       "redemption_other              7370\n",
       "returned_handgun             10285\n",
       "returned_long_gun            10340\n",
       "returned_other               10670\n",
       "rentals_handgun              11495\n",
       "rentals_long_gun             11660\n",
       "private_sale_handgun          9735\n",
       "private_sale_long_gun         9735\n",
       "private_sale_other            9735\n",
       "return_to_seller_handgun     10010\n",
       "return_to_seller_long_gun     9735\n",
       "return_to_seller_other       10230\n",
       "totals                           0\n",
       "dtype: int64"
      ]
     },
     "execution_count": 8,
     "metadata": {},
     "output_type": "execute_result"
    }
   ],
   "source": [
    "# missing values\n",
    "df.isnull().sum()"
   ]
  },
  {
   "cell_type": "markdown",
   "metadata": {},
   "source": [
    "The sum of all background are already given as a column \"totals\", so let's replace missing values with zero."
   ]
  },
  {
   "cell_type": "code",
   "execution_count": 9,
   "metadata": {},
   "outputs": [],
   "source": [
    "# replacing missing values with zero\n",
    "df.fillna(0,inplace=True)"
   ]
  },
  {
   "cell_type": "code",
   "execution_count": 14,
   "metadata": {},
   "outputs": [
    {
     "data": {
      "text/plain": [
       "month                        0\n",
       "state                        0\n",
       "permit                       0\n",
       "permit_recheck               0\n",
       "handgun                      0\n",
       "long_gun                     0\n",
       "other                        0\n",
       "multiple                     0\n",
       "admin                        0\n",
       "prepawn_handgun              0\n",
       "prepawn_long_gun             0\n",
       "prepawn_other                0\n",
       "redemption_handgun           0\n",
       "redemption_long_gun          0\n",
       "redemption_other             0\n",
       "returned_handgun             0\n",
       "returned_long_gun            0\n",
       "returned_other               0\n",
       "rentals_handgun              0\n",
       "rentals_long_gun             0\n",
       "private_sale_handgun         0\n",
       "private_sale_long_gun        0\n",
       "private_sale_other           0\n",
       "return_to_seller_handgun     0\n",
       "return_to_seller_long_gun    0\n",
       "return_to_seller_other       0\n",
       "totals                       0\n",
       "dtype: int64"
      ]
     },
     "execution_count": 14,
     "metadata": {},
     "output_type": "execute_result"
    }
   ],
   "source": [
    "# check for missing values\n",
    "df.isnull().sum()"
   ]
  },
  {
   "cell_type": "markdown",
   "metadata": {},
   "source": [
    "Drop unwanted columns"
   ]
  },
  {
   "cell_type": "code",
   "execution_count": 10,
   "metadata": {},
   "outputs": [],
   "source": [
    "df.drop([\"multiple\",\"admin\"],axis=1,inplace=True)"
   ]
  },
  {
   "cell_type": "markdown",
   "metadata": {},
   "source": [
    "# Exploratory Analysis"
   ]
  },
  {
   "cell_type": "markdown",
   "metadata": {},
   "source": [
    "### 1. How gun registrations has changed over the given years?"
   ]
  },
  {
   "cell_type": "code",
   "execution_count": null,
   "metadata": {
    "collapsed": true
   },
   "outputs": [],
   "source": [
    "# Use this, and more code cells, to explore your data. Don't forget to add\n",
    "#   Markdown cells to document your observations and findings.\n"
   ]
  },
  {
   "cell_type": "markdown",
   "metadata": {},
   "source": [
    "single variabel exploration\n",
    "exploration of permit\n"
   ]
  },
  {
   "cell_type": "code",
   "execution_count": 35,
   "metadata": {},
   "outputs": [
    {
     "data": {
      "text/plain": [
       "Text(0.5,1,'Distribution of Gun Permit')"
      ]
     },
     "execution_count": 35,
     "metadata": {},
     "output_type": "execute_result"
    },
    {
     "data": {
      "image/png": "[encoded data removed]",
      "text/plain": [
       "<matplotlib.figure.Figure at 0x7f66ab234cf8>"
      ]
     },
     "metadata": {
      "needs_background": "light"
     },
     "output_type": "display_data"
    }
   ],
   "source": [
    "# checking permit of gun registration\n",
    "bins_list = [20000, 40000, 60000, 80000,100000,120000,140000,160000,180000,200000]\n",
    "df[\"permit\"].plot.hist(bins=bins_list,figsize=(12,8))\n",
    "plt.xlabel(\"Permit Issued\")\n",
    "plt.ylabel(\"Frequency of Permit\")\n",
    "plt.title(\"Distribution of Gun Permit\")"
   ]
  },
  {
   "cell_type": "markdown",
   "metadata": {},
   "source": [
    "It shows that most of permit issued are below 40000. let's further check with describetive statistics."
   ]
  },
  {
   "cell_type": "code",
   "execution_count": 38,
   "metadata": {},
   "outputs": [
    {
     "data": {
      "text/plain": [
       "count     14685.000000\n",
       "mean       7201.581069\n",
       "std       26103.171680\n",
       "min           0.000000\n",
       "25%           0.000000\n",
       "50%         782.000000\n",
       "75%        5452.000000\n",
       "max      522188.000000\n",
       "Name: permit, dtype: float64"
      ]
     },
     "execution_count": 38,
     "metadata": {},
     "output_type": "execute_result"
    }
   ],
   "source": [
    "df[\"permit\"].describe()"
   ]
  },
  {
   "cell_type": "code",
   "execution_count": 37,
   "metadata": {},
   "outputs": [
    {
     "data": {
      "text/plain": [
       "Text(0.5,1,'Distribution of Permit_Recheck')"
      ]
     },
     "execution_count": 37,
     "metadata": {},
     "output_type": "execute_result"
    },
    {
     "data": {
      "image/png": "[encoded data removed]",
      "text/plain": [
       "<matplotlib.figure.Figure at 0x7f66aaf1e358>"
      ]
     },
     "metadata": {
      "needs_background": "light"
     },
     "output_type": "display_data"
    }
   ],
   "source": [
    "# checking permit_recheck of gun registration\n",
    "bins_list = [20000, 40000, 60000, 80000,100000,120000,140000,160000,180000,200000]\n",
    "df[\"permit_recheck\"].plot.hist(bins=bins_list,figsize=(12,8))\n",
    "plt.xlabel(\"Permit-Recheck\")\n",
    "plt.ylabel(\"Frequency of Permit-Recheck\")\n",
    "plt.title(\"Distribution of Permit_Recheck\")"
   ]
  },
  {
   "cell_type": "markdown",
   "metadata": {},
   "source": [
    "Recheck on gun permit is widely distributed. Most of Recheck happened in below of 75000. Its describetive statistics is given below"
   ]
  },
  {
   "cell_type": "code",
   "execution_count": 39,
   "metadata": {},
   "outputs": [
    {
     "data": {
      "text/plain": [
       "count     14685.000000\n",
       "mean       1780.257610\n",
       "std       24585.121474\n",
       "min           0.000000\n",
       "25%           0.000000\n",
       "50%           0.000000\n",
       "75%           0.000000\n",
       "max      912211.000000\n",
       "Name: permit_recheck, dtype: float64"
      ]
     },
     "execution_count": 39,
     "metadata": {},
     "output_type": "execute_result"
    }
   ],
   "source": [
    "df[\"permit_recheck\"].describe()"
   ]
  },
  {
   "cell_type": "code",
   "execution_count": 46,
   "metadata": {
    "scrolled": true
   },
   "outputs": [
    {
     "data": {
      "text/plain": [
       "Text(0.5,1,'Plotting Permit Status')"
      ]
     },
     "execution_count": 46,
     "metadata": {},
     "output_type": "execute_result"
    },
    {
     "data": {
      "image/png": "[encoded data removed]",
      "text/plain": [
       "<matplotlib.figure.Figure at 0x7f66ab57d940>"
      ]
     },
     "metadata": {
      "needs_background": "light"
     },
     "output_type": "display_data"
    }
   ],
   "source": [
    "df.boxplot(column=['permit', 'permit_recheck'],figsize=(12,12))\n",
    "plt.xlabel(\"Permit and Permmit_Recheck\")\n",
    "plt.ylabel(\"count of Permmit status\")\n",
    "plt.title(\"Plotting Permit Status\")"
   ]
  },
  {
   "cell_type": "markdown",
   "metadata": {},
   "source": [
    "Exploration of private sale handgun\n"
   ]
  },
  {
   "cell_type": "code",
   "execution_count": 45,
   "metadata": {},
   "outputs": [
    {
     "data": {
      "text/plain": [
       "Text(0.5,1,'Distribution of Private sale handgun')"
      ]
     },
     "execution_count": 45,
     "metadata": {},
     "output_type": "execute_result"
    },
    {
     "data": {
      "image/png": "[encoded data removed]",
      "text/plain": [
       "<matplotlib.figure.Figure at 0x7f66aac50c50>"
      ]
     },
     "metadata": {
      "needs_background": "light"
     },
     "output_type": "display_data"
    }
   ],
   "source": [
    "# checking private sale handgun of gun registration\n",
    "bin_list=[100,300,600,900,1000,1200]\n",
    "df[\"private_sale_handgun\"].plot.hist(bins=bin_list,figsize=(12,8))\n",
    "plt.xlabel(\"Private sale hungun\")\n",
    "plt.ylabel(\"Frequency \")\n",
    "plt.title(\"Distribution of Private sale handgun\")"
   ]
  },
  {
   "cell_type": "markdown",
   "metadata": {},
   "source": [
    "The distribution of private sale handgun is mostly below 600. "
   ]
  },
  {
   "cell_type": "markdown",
   "metadata": {},
   "source": [
    " convert month column to date column by using datetime method"
   ]
  },
  {
   "cell_type": "code",
   "execution_count": 51,
   "metadata": {},
   "outputs": [],
   "source": [
    "# new column date formed from column month\n",
    "df[\"date\"]=pd.to_datetime(df[\"month\"])"
   ]
  },
  {
   "cell_type": "code",
   "execution_count": 52,
   "metadata": {},
   "outputs": [
    {
     "data": {
      "text/html": [
       "<div>\n",
       "<style scoped>\n",
       "    .dataframe tbody tr th:only-of-type {\n",
       "        vertical-align: middle;\n",
       "    }\n",
       "\n",
       "    .dataframe tbody tr th {\n",
       "        vertical-align: top;\n",
       "    }\n",
       "\n",
       "    .dataframe thead th {\n",
       "        text-align: right;\n",
       "    }\n",
       "</style>\n",
       "<table border=\"1\" class=\"dataframe\">\n",
       "  <thead>\n",
       "    <tr style=\"text-align: right;\">\n",
       "      <th></th>\n",
       "      <th>month</th>\n",
       "      <th>state</th>\n",
       "      <th>permit</th>\n",
       "      <th>permit_recheck</th>\n",
       "      <th>handgun</th>\n",
       "      <th>long_gun</th>\n",
       "      <th>other</th>\n",
       "      <th>prepawn_handgun</th>\n",
       "      <th>prepawn_long_gun</th>\n",
       "      <th>prepawn_other</th>\n",
       "      <th>...</th>\n",
       "      <th>rentals_handgun</th>\n",
       "      <th>rentals_long_gun</th>\n",
       "      <th>private_sale_handgun</th>\n",
       "      <th>private_sale_long_gun</th>\n",
       "      <th>private_sale_other</th>\n",
       "      <th>return_to_seller_handgun</th>\n",
       "      <th>return_to_seller_long_gun</th>\n",
       "      <th>return_to_seller_other</th>\n",
       "      <th>totals</th>\n",
       "      <th>date</th>\n",
       "    </tr>\n",
       "  </thead>\n",
       "  <tbody>\n",
       "    <tr>\n",
       "      <th>0</th>\n",
       "      <td>1/1/2021</td>\n",
       "      <td>Alabama</td>\n",
       "      <td>39955.0</td>\n",
       "      <td>464.0</td>\n",
       "      <td>33563.0</td>\n",
       "      <td>23477.0</td>\n",
       "      <td>2309.0</td>\n",
       "      <td>26.0</td>\n",
       "      <td>11.0</td>\n",
       "      <td>2.0</td>\n",
       "      <td>...</td>\n",
       "      <td>0.0</td>\n",
       "      <td>0.0</td>\n",
       "      <td>25.0</td>\n",
       "      <td>34.0</td>\n",
       "      <td>14.0</td>\n",
       "      <td>0.0</td>\n",
       "      <td>2.0</td>\n",
       "      <td>0.0</td>\n",
       "      <td>105602</td>\n",
       "      <td>2021-01-01</td>\n",
       "    </tr>\n",
       "    <tr>\n",
       "      <th>1</th>\n",
       "      <td>1/1/2021</td>\n",
       "      <td>Alaska</td>\n",
       "      <td>283.0</td>\n",
       "      <td>4.0</td>\n",
       "      <td>3989.0</td>\n",
       "      <td>3574.0</td>\n",
       "      <td>563.0</td>\n",
       "      <td>1.0</td>\n",
       "      <td>1.0</td>\n",
       "      <td>1.0</td>\n",
       "      <td>...</td>\n",
       "      <td>0.0</td>\n",
       "      <td>0.0</td>\n",
       "      <td>7.0</td>\n",
       "      <td>18.0</td>\n",
       "      <td>2.0</td>\n",
       "      <td>0.0</td>\n",
       "      <td>0.0</td>\n",
       "      <td>0.0</td>\n",
       "      <td>9018</td>\n",
       "      <td>2021-01-01</td>\n",
       "    </tr>\n",
       "  </tbody>\n",
       "</table>\n",
       "<p>2 rows × 26 columns</p>\n",
       "</div>"
      ],
      "text/plain": [
       "      month    state   permit  permit_recheck  handgun  long_gun   other  \\\n",
       "0  1/1/2021  Alabama  39955.0           464.0  33563.0   23477.0  2309.0   \n",
       "1  1/1/2021   Alaska    283.0             4.0   3989.0    3574.0   563.0   \n",
       "\n",
       "   prepawn_handgun  prepawn_long_gun  prepawn_other    ...      \\\n",
       "0             26.0              11.0            2.0    ...       \n",
       "1              1.0               1.0            1.0    ...       \n",
       "\n",
       "   rentals_handgun  rentals_long_gun  private_sale_handgun  \\\n",
       "0              0.0               0.0                  25.0   \n",
       "1              0.0               0.0                   7.0   \n",
       "\n",
       "   private_sale_long_gun  private_sale_other  return_to_seller_handgun  \\\n",
       "0                   34.0                14.0                       0.0   \n",
       "1                   18.0                 2.0                       0.0   \n",
       "\n",
       "   return_to_seller_long_gun  return_to_seller_other  totals       date  \n",
       "0                        2.0                     0.0  105602 2021-01-01  \n",
       "1                        0.0                     0.0    9018 2021-01-01  \n",
       "\n",
       "[2 rows x 26 columns]"
      ]
     },
     "execution_count": 52,
     "metadata": {},
     "output_type": "execute_result"
    }
   ],
   "source": [
    "df.head(2)"
   ]
  },
  {
   "cell_type": "code",
   "execution_count": 53,
   "metadata": {},
   "outputs": [],
   "source": [
    "# dropping month column, no need of month column\n",
    "df.drop([\"month\"],axis=1,inplace=True)"
   ]
  },
  {
   "cell_type": "code",
   "execution_count": 54,
   "metadata": {},
   "outputs": [
    {
     "data": {
      "text/html": [
       "<div>\n",
       "<style scoped>\n",
       "    .dataframe tbody tr th:only-of-type {\n",
       "        vertical-align: middle;\n",
       "    }\n",
       "\n",
       "    .dataframe tbody tr th {\n",
       "        vertical-align: top;\n",
       "    }\n",
       "\n",
       "    .dataframe thead th {\n",
       "        text-align: right;\n",
       "    }\n",
       "</style>\n",
       "<table border=\"1\" class=\"dataframe\">\n",
       "  <thead>\n",
       "    <tr style=\"text-align: right;\">\n",
       "      <th></th>\n",
       "      <th>state</th>\n",
       "      <th>permit</th>\n",
       "      <th>permit_recheck</th>\n",
       "      <th>handgun</th>\n",
       "      <th>long_gun</th>\n",
       "      <th>other</th>\n",
       "      <th>prepawn_handgun</th>\n",
       "      <th>prepawn_long_gun</th>\n",
       "      <th>prepawn_other</th>\n",
       "      <th>redemption_handgun</th>\n",
       "      <th>...</th>\n",
       "      <th>rentals_handgun</th>\n",
       "      <th>rentals_long_gun</th>\n",
       "      <th>private_sale_handgun</th>\n",
       "      <th>private_sale_long_gun</th>\n",
       "      <th>private_sale_other</th>\n",
       "      <th>return_to_seller_handgun</th>\n",
       "      <th>return_to_seller_long_gun</th>\n",
       "      <th>return_to_seller_other</th>\n",
       "      <th>totals</th>\n",
       "      <th>date</th>\n",
       "    </tr>\n",
       "  </thead>\n",
       "  <tbody>\n",
       "    <tr>\n",
       "      <th>0</th>\n",
       "      <td>Alabama</td>\n",
       "      <td>39955.0</td>\n",
       "      <td>464.0</td>\n",
       "      <td>33563.0</td>\n",
       "      <td>23477.0</td>\n",
       "      <td>2309.0</td>\n",
       "      <td>26.0</td>\n",
       "      <td>11.0</td>\n",
       "      <td>2.0</td>\n",
       "      <td>2820.0</td>\n",
       "      <td>...</td>\n",
       "      <td>0.0</td>\n",
       "      <td>0.0</td>\n",
       "      <td>25.0</td>\n",
       "      <td>34.0</td>\n",
       "      <td>14.0</td>\n",
       "      <td>0.0</td>\n",
       "      <td>2.0</td>\n",
       "      <td>0.0</td>\n",
       "      <td>105602</td>\n",
       "      <td>2021-01-01</td>\n",
       "    </tr>\n",
       "    <tr>\n",
       "      <th>1</th>\n",
       "      <td>Alaska</td>\n",
       "      <td>283.0</td>\n",
       "      <td>4.0</td>\n",
       "      <td>3989.0</td>\n",
       "      <td>3574.0</td>\n",
       "      <td>563.0</td>\n",
       "      <td>1.0</td>\n",
       "      <td>1.0</td>\n",
       "      <td>1.0</td>\n",
       "      <td>149.0</td>\n",
       "      <td>...</td>\n",
       "      <td>0.0</td>\n",
       "      <td>0.0</td>\n",
       "      <td>7.0</td>\n",
       "      <td>18.0</td>\n",
       "      <td>2.0</td>\n",
       "      <td>0.0</td>\n",
       "      <td>0.0</td>\n",
       "      <td>0.0</td>\n",
       "      <td>9018</td>\n",
       "      <td>2021-01-01</td>\n",
       "    </tr>\n",
       "  </tbody>\n",
       "</table>\n",
       "<p>2 rows × 25 columns</p>\n",
       "</div>"
      ],
      "text/plain": [
       "     state   permit  permit_recheck  handgun  long_gun   other  \\\n",
       "0  Alabama  39955.0           464.0  33563.0   23477.0  2309.0   \n",
       "1   Alaska    283.0             4.0   3989.0    3574.0   563.0   \n",
       "\n",
       "   prepawn_handgun  prepawn_long_gun  prepawn_other  redemption_handgun  \\\n",
       "0             26.0              11.0            2.0              2820.0   \n",
       "1              1.0               1.0            1.0               149.0   \n",
       "\n",
       "     ...      rentals_handgun  rentals_long_gun  private_sale_handgun  \\\n",
       "0    ...                  0.0               0.0                  25.0   \n",
       "1    ...                  0.0               0.0                   7.0   \n",
       "\n",
       "   private_sale_long_gun  private_sale_other  return_to_seller_handgun  \\\n",
       "0                   34.0                14.0                       0.0   \n",
       "1                   18.0                 2.0                       0.0   \n",
       "\n",
       "   return_to_seller_long_gun  return_to_seller_other  totals       date  \n",
       "0                        2.0                     0.0  105602 2021-01-01  \n",
       "1                        0.0                     0.0    9018 2021-01-01  \n",
       "\n",
       "[2 rows x 25 columns]"
      ]
     },
     "execution_count": 54,
     "metadata": {},
     "output_type": "execute_result"
    }
   ],
   "source": [
    "df.head(2)"
   ]
  },
  {
   "cell_type": "markdown",
   "metadata": {},
   "source": [
    "Insert new column \"month\" in index = 0. This column includes month name."
   ]
  },
  {
   "cell_type": "code",
   "execution_count": 55,
   "metadata": {},
   "outputs": [],
   "source": [
    "# inserting month column\n",
    "df.insert(0, \"month\",df['date'].dt.month_name().str[:3])"
   ]
  },
  {
   "cell_type": "code",
   "execution_count": 56,
   "metadata": {},
   "outputs": [
    {
     "data": {
      "text/html": [
       "<div>\n",
       "<style scoped>\n",
       "    .dataframe tbody tr th:only-of-type {\n",
       "        vertical-align: middle;\n",
       "    }\n",
       "\n",
       "    .dataframe tbody tr th {\n",
       "        vertical-align: top;\n",
       "    }\n",
       "\n",
       "    .dataframe thead th {\n",
       "        text-align: right;\n",
       "    }\n",
       "</style>\n",
       "<table border=\"1\" class=\"dataframe\">\n",
       "  <thead>\n",
       "    <tr style=\"text-align: right;\">\n",
       "      <th></th>\n",
       "      <th>month</th>\n",
       "      <th>state</th>\n",
       "      <th>permit</th>\n",
       "      <th>permit_recheck</th>\n",
       "      <th>handgun</th>\n",
       "      <th>long_gun</th>\n",
       "      <th>other</th>\n",
       "      <th>prepawn_handgun</th>\n",
       "      <th>prepawn_long_gun</th>\n",
       "      <th>prepawn_other</th>\n",
       "      <th>...</th>\n",
       "      <th>rentals_handgun</th>\n",
       "      <th>rentals_long_gun</th>\n",
       "      <th>private_sale_handgun</th>\n",
       "      <th>private_sale_long_gun</th>\n",
       "      <th>private_sale_other</th>\n",
       "      <th>return_to_seller_handgun</th>\n",
       "      <th>return_to_seller_long_gun</th>\n",
       "      <th>return_to_seller_other</th>\n",
       "      <th>totals</th>\n",
       "      <th>date</th>\n",
       "    </tr>\n",
       "  </thead>\n",
       "  <tbody>\n",
       "    <tr>\n",
       "      <th>0</th>\n",
       "      <td>Jan</td>\n",
       "      <td>Alabama</td>\n",
       "      <td>39955.0</td>\n",
       "      <td>464.0</td>\n",
       "      <td>33563.0</td>\n",
       "      <td>23477.0</td>\n",
       "      <td>2309.0</td>\n",
       "      <td>26.0</td>\n",
       "      <td>11.0</td>\n",
       "      <td>2.0</td>\n",
       "      <td>...</td>\n",
       "      <td>0.0</td>\n",
       "      <td>0.0</td>\n",
       "      <td>25.0</td>\n",
       "      <td>34.0</td>\n",
       "      <td>14.0</td>\n",
       "      <td>0.0</td>\n",
       "      <td>2.0</td>\n",
       "      <td>0.0</td>\n",
       "      <td>105602</td>\n",
       "      <td>2021-01-01</td>\n",
       "    </tr>\n",
       "    <tr>\n",
       "      <th>1</th>\n",
       "      <td>Jan</td>\n",
       "      <td>Alaska</td>\n",
       "      <td>283.0</td>\n",
       "      <td>4.0</td>\n",
       "      <td>3989.0</td>\n",
       "      <td>3574.0</td>\n",
       "      <td>563.0</td>\n",
       "      <td>1.0</td>\n",
       "      <td>1.0</td>\n",
       "      <td>1.0</td>\n",
       "      <td>...</td>\n",
       "      <td>0.0</td>\n",
       "      <td>0.0</td>\n",
       "      <td>7.0</td>\n",
       "      <td>18.0</td>\n",
       "      <td>2.0</td>\n",
       "      <td>0.0</td>\n",
       "      <td>0.0</td>\n",
       "      <td>0.0</td>\n",
       "      <td>9018</td>\n",
       "      <td>2021-01-01</td>\n",
       "    </tr>\n",
       "  </tbody>\n",
       "</table>\n",
       "<p>2 rows × 26 columns</p>\n",
       "</div>"
      ],
      "text/plain": [
       "  month    state   permit  permit_recheck  handgun  long_gun   other  \\\n",
       "0   Jan  Alabama  39955.0           464.0  33563.0   23477.0  2309.0   \n",
       "1   Jan   Alaska    283.0             4.0   3989.0    3574.0   563.0   \n",
       "\n",
       "   prepawn_handgun  prepawn_long_gun  prepawn_other    ...      \\\n",
       "0             26.0              11.0            2.0    ...       \n",
       "1              1.0               1.0            1.0    ...       \n",
       "\n",
       "   rentals_handgun  rentals_long_gun  private_sale_handgun  \\\n",
       "0              0.0               0.0                  25.0   \n",
       "1              0.0               0.0                   7.0   \n",
       "\n",
       "   private_sale_long_gun  private_sale_other  return_to_seller_handgun  \\\n",
       "0                   34.0                14.0                       0.0   \n",
       "1                   18.0                 2.0                       0.0   \n",
       "\n",
       "   return_to_seller_long_gun  return_to_seller_other  totals       date  \n",
       "0                        2.0                     0.0  105602 2021-01-01  \n",
       "1                        0.0                     0.0    9018 2021-01-01  \n",
       "\n",
       "[2 rows x 26 columns]"
      ]
     },
     "execution_count": 56,
     "metadata": {},
     "output_type": "execute_result"
    }
   ],
   "source": [
    "# checking for column month\n",
    "df.head(2)"
   ]
  },
  {
   "cell_type": "markdown",
   "metadata": {},
   "source": [
    "Inserting new column \"year\" by getting year from date column"
   ]
  },
  {
   "cell_type": "code",
   "execution_count": 57,
   "metadata": {},
   "outputs": [],
   "source": [
    "# new column \"year\"\n",
    "df.insert(1,\"year\",df.date.dt.year)"
   ]
  },
  {
   "cell_type": "code",
   "execution_count": 58,
   "metadata": {},
   "outputs": [
    {
     "data": {
      "text/html": [
       "<div>\n",
       "<style scoped>\n",
       "    .dataframe tbody tr th:only-of-type {\n",
       "        vertical-align: middle;\n",
       "    }\n",
       "\n",
       "    .dataframe tbody tr th {\n",
       "        vertical-align: top;\n",
       "    }\n",
       "\n",
       "    .dataframe thead th {\n",
       "        text-align: right;\n",
       "    }\n",
       "</style>\n",
       "<table border=\"1\" class=\"dataframe\">\n",
       "  <thead>\n",
       "    <tr style=\"text-align: right;\">\n",
       "      <th></th>\n",
       "      <th>month</th>\n",
       "      <th>year</th>\n",
       "      <th>state</th>\n",
       "      <th>permit</th>\n",
       "      <th>permit_recheck</th>\n",
       "      <th>handgun</th>\n",
       "      <th>long_gun</th>\n",
       "      <th>other</th>\n",
       "      <th>prepawn_handgun</th>\n",
       "      <th>prepawn_long_gun</th>\n",
       "      <th>...</th>\n",
       "      <th>rentals_handgun</th>\n",
       "      <th>rentals_long_gun</th>\n",
       "      <th>private_sale_handgun</th>\n",
       "      <th>private_sale_long_gun</th>\n",
       "      <th>private_sale_other</th>\n",
       "      <th>return_to_seller_handgun</th>\n",
       "      <th>return_to_seller_long_gun</th>\n",
       "      <th>return_to_seller_other</th>\n",
       "      <th>totals</th>\n",
       "      <th>date</th>\n",
       "    </tr>\n",
       "  </thead>\n",
       "  <tbody>\n",
       "    <tr>\n",
       "      <th>0</th>\n",
       "      <td>Jan</td>\n",
       "      <td>2021</td>\n",
       "      <td>Alabama</td>\n",
       "      <td>39955.0</td>\n",
       "      <td>464.0</td>\n",
       "      <td>33563.0</td>\n",
       "      <td>23477.0</td>\n",
       "      <td>2309.0</td>\n",
       "      <td>26.0</td>\n",
       "      <td>11.0</td>\n",
       "      <td>...</td>\n",
       "      <td>0.0</td>\n",
       "      <td>0.0</td>\n",
       "      <td>25.0</td>\n",
       "      <td>34.0</td>\n",
       "      <td>14.0</td>\n",
       "      <td>0.0</td>\n",
       "      <td>2.0</td>\n",
       "      <td>0.0</td>\n",
       "      <td>105602</td>\n",
       "      <td>2021-01-01</td>\n",
       "    </tr>\n",
       "    <tr>\n",
       "      <th>1</th>\n",
       "      <td>Jan</td>\n",
       "      <td>2021</td>\n",
       "      <td>Alaska</td>\n",
       "      <td>283.0</td>\n",
       "      <td>4.0</td>\n",
       "      <td>3989.0</td>\n",
       "      <td>3574.0</td>\n",
       "      <td>563.0</td>\n",
       "      <td>1.0</td>\n",
       "      <td>1.0</td>\n",
       "      <td>...</td>\n",
       "      <td>0.0</td>\n",
       "      <td>0.0</td>\n",
       "      <td>7.0</td>\n",
       "      <td>18.0</td>\n",
       "      <td>2.0</td>\n",
       "      <td>0.0</td>\n",
       "      <td>0.0</td>\n",
       "      <td>0.0</td>\n",
       "      <td>9018</td>\n",
       "      <td>2021-01-01</td>\n",
       "    </tr>\n",
       "  </tbody>\n",
       "</table>\n",
       "<p>2 rows × 27 columns</p>\n",
       "</div>"
      ],
      "text/plain": [
       "  month  year    state   permit  permit_recheck  handgun  long_gun   other  \\\n",
       "0   Jan  2021  Alabama  39955.0           464.0  33563.0   23477.0  2309.0   \n",
       "1   Jan  2021   Alaska    283.0             4.0   3989.0    3574.0   563.0   \n",
       "\n",
       "   prepawn_handgun  prepawn_long_gun    ...      rentals_handgun  \\\n",
       "0             26.0              11.0    ...                  0.0   \n",
       "1              1.0               1.0    ...                  0.0   \n",
       "\n",
       "   rentals_long_gun  private_sale_handgun  private_sale_long_gun  \\\n",
       "0               0.0                  25.0                   34.0   \n",
       "1               0.0                   7.0                   18.0   \n",
       "\n",
       "   private_sale_other  return_to_seller_handgun  return_to_seller_long_gun  \\\n",
       "0                14.0                       0.0                        2.0   \n",
       "1                 2.0                       0.0                        0.0   \n",
       "\n",
       "   return_to_seller_other  totals       date  \n",
       "0                     0.0  105602 2021-01-01  \n",
       "1                     0.0    9018 2021-01-01  \n",
       "\n",
       "[2 rows x 27 columns]"
      ]
     },
     "execution_count": 58,
     "metadata": {},
     "output_type": "execute_result"
    }
   ],
   "source": [
    "# checking for year column\n",
    "df.head(2)"
   ]
  },
  {
   "cell_type": "markdown",
   "metadata": {},
   "source": [
    "Dropping year 2021 because it has no enough data"
   ]
  },
  {
   "cell_type": "code",
   "execution_count": 59,
   "metadata": {},
   "outputs": [],
   "source": [
    "# dropping year 2021\n",
    "df.drop(df[df[\"year\"]==2021].index,inplace=True)"
   ]
  },
  {
   "cell_type": "code",
   "execution_count": 60,
   "metadata": {},
   "outputs": [
    {
     "data": {
      "text/html": [
       "<div>\n",
       "<style scoped>\n",
       "    .dataframe tbody tr th:only-of-type {\n",
       "        vertical-align: middle;\n",
       "    }\n",
       "\n",
       "    .dataframe tbody tr th {\n",
       "        vertical-align: top;\n",
       "    }\n",
       "\n",
       "    .dataframe thead th {\n",
       "        text-align: right;\n",
       "    }\n",
       "</style>\n",
       "<table border=\"1\" class=\"dataframe\">\n",
       "  <thead>\n",
       "    <tr style=\"text-align: right;\">\n",
       "      <th></th>\n",
       "      <th>month</th>\n",
       "      <th>year</th>\n",
       "      <th>state</th>\n",
       "      <th>permit</th>\n",
       "      <th>permit_recheck</th>\n",
       "      <th>handgun</th>\n",
       "      <th>long_gun</th>\n",
       "      <th>other</th>\n",
       "      <th>prepawn_handgun</th>\n",
       "      <th>prepawn_long_gun</th>\n",
       "      <th>...</th>\n",
       "      <th>rentals_handgun</th>\n",
       "      <th>rentals_long_gun</th>\n",
       "      <th>private_sale_handgun</th>\n",
       "      <th>private_sale_long_gun</th>\n",
       "      <th>private_sale_other</th>\n",
       "      <th>return_to_seller_handgun</th>\n",
       "      <th>return_to_seller_long_gun</th>\n",
       "      <th>return_to_seller_other</th>\n",
       "      <th>totals</th>\n",
       "      <th>date</th>\n",
       "    </tr>\n",
       "  </thead>\n",
       "  <tbody>\n",
       "    <tr>\n",
       "      <th>55</th>\n",
       "      <td>Dec</td>\n",
       "      <td>2020</td>\n",
       "      <td>Alabama</td>\n",
       "      <td>33421.0</td>\n",
       "      <td>505.0</td>\n",
       "      <td>31103.0</td>\n",
       "      <td>28933.0</td>\n",
       "      <td>1855.0</td>\n",
       "      <td>43.0</td>\n",
       "      <td>13.0</td>\n",
       "      <td>...</td>\n",
       "      <td>0.0</td>\n",
       "      <td>0.0</td>\n",
       "      <td>30.0</td>\n",
       "      <td>23.0</td>\n",
       "      <td>5.0</td>\n",
       "      <td>2.0</td>\n",
       "      <td>3.0</td>\n",
       "      <td>0.0</td>\n",
       "      <td>100927</td>\n",
       "      <td>2020-12-01</td>\n",
       "    </tr>\n",
       "    <tr>\n",
       "      <th>56</th>\n",
       "      <td>Dec</td>\n",
       "      <td>2020</td>\n",
       "      <td>Alaska</td>\n",
       "      <td>441.0</td>\n",
       "      <td>3.0</td>\n",
       "      <td>3658.0</td>\n",
       "      <td>3822.0</td>\n",
       "      <td>430.0</td>\n",
       "      <td>0.0</td>\n",
       "      <td>0.0</td>\n",
       "      <td>...</td>\n",
       "      <td>0.0</td>\n",
       "      <td>0.0</td>\n",
       "      <td>9.0</td>\n",
       "      <td>10.0</td>\n",
       "      <td>1.0</td>\n",
       "      <td>0.0</td>\n",
       "      <td>1.0</td>\n",
       "      <td>0.0</td>\n",
       "      <td>8896</td>\n",
       "      <td>2020-12-01</td>\n",
       "    </tr>\n",
       "  </tbody>\n",
       "</table>\n",
       "<p>2 rows × 27 columns</p>\n",
       "</div>"
      ],
      "text/plain": [
       "   month  year    state   permit  permit_recheck  handgun  long_gun   other  \\\n",
       "55   Dec  2020  Alabama  33421.0           505.0  31103.0   28933.0  1855.0   \n",
       "56   Dec  2020   Alaska    441.0             3.0   3658.0    3822.0   430.0   \n",
       "\n",
       "    prepawn_handgun  prepawn_long_gun    ...      rentals_handgun  \\\n",
       "55             43.0              13.0    ...                  0.0   \n",
       "56              0.0               0.0    ...                  0.0   \n",
       "\n",
       "    rentals_long_gun  private_sale_handgun  private_sale_long_gun  \\\n",
       "55               0.0                  30.0                   23.0   \n",
       "56               0.0                   9.0                   10.0   \n",
       "\n",
       "    private_sale_other  return_to_seller_handgun  return_to_seller_long_gun  \\\n",
       "55                 5.0                       2.0                        3.0   \n",
       "56                 1.0                       0.0                        1.0   \n",
       "\n",
       "    return_to_seller_other  totals       date  \n",
       "55                     0.0  100927 2020-12-01  \n",
       "56                     0.0    8896 2020-12-01  \n",
       "\n",
       "[2 rows x 27 columns]"
      ]
     },
     "execution_count": 60,
     "metadata": {},
     "output_type": "execute_result"
    }
   ],
   "source": [
    "df.head(2)"
   ]
  },
  {
   "cell_type": "markdown",
   "metadata": {},
   "source": [
    "Get totals registration by grouping in \"year\""
   ]
  },
  {
   "cell_type": "code",
   "execution_count": 61,
   "metadata": {},
   "outputs": [
    {
     "data": {
      "text/plain": [
       "year\n",
       "1998      891898\n",
       "1999     9043747\n",
       "2000     8427096\n",
       "2001     8820045\n",
       "2002     8367069\n",
       "2003     8402244\n",
       "2004     8579891\n",
       "2005     8867055\n",
       "2006     9993057\n",
       "2007    11162272\n",
       "Name: totals, dtype: int64"
      ]
     },
     "execution_count": 61,
     "metadata": {},
     "output_type": "execute_result"
    }
   ],
   "source": [
    "\n",
    "df_year=df.groupby(\"year\")[\"totals\"].sum()\n",
    "df_year.head(10)"
   ]
  },
  {
   "cell_type": "markdown",
   "metadata": {},
   "source": [
    " Visualization of total gun registration 1998-2020"
   ]
  },
  {
   "cell_type": "markdown",
   "metadata": {},
   "source": []
  },
  {
   "cell_type": "markdown",
   "metadata": {},
   "source": [
    "dropping year 1998"
   ]
  },
  {
   "cell_type": "code",
   "execution_count": 62,
   "metadata": {},
   "outputs": [
    {
     "data": {
      "text/html": [
       "<div>\n",
       "<style scoped>\n",
       "    .dataframe tbody tr th:only-of-type {\n",
       "        vertical-align: middle;\n",
       "    }\n",
       "\n",
       "    .dataframe tbody tr th {\n",
       "        vertical-align: top;\n",
       "    }\n",
       "\n",
       "    .dataframe thead th {\n",
       "        text-align: right;\n",
       "    }\n",
       "</style>\n",
       "<table border=\"1\" class=\"dataframe\">\n",
       "  <thead>\n",
       "    <tr style=\"text-align: right;\">\n",
       "      <th></th>\n",
       "      <th>month</th>\n",
       "      <th>year</th>\n",
       "      <th>state</th>\n",
       "      <th>permit</th>\n",
       "      <th>permit_recheck</th>\n",
       "      <th>handgun</th>\n",
       "      <th>long_gun</th>\n",
       "      <th>other</th>\n",
       "      <th>prepawn_handgun</th>\n",
       "      <th>prepawn_long_gun</th>\n",
       "      <th>...</th>\n",
       "      <th>rentals_handgun</th>\n",
       "      <th>rentals_long_gun</th>\n",
       "      <th>private_sale_handgun</th>\n",
       "      <th>private_sale_long_gun</th>\n",
       "      <th>private_sale_other</th>\n",
       "      <th>return_to_seller_handgun</th>\n",
       "      <th>return_to_seller_long_gun</th>\n",
       "      <th>return_to_seller_other</th>\n",
       "      <th>totals</th>\n",
       "      <th>date</th>\n",
       "    </tr>\n",
       "  </thead>\n",
       "  <tbody>\n",
       "    <tr>\n",
       "      <th>14565</th>\n",
       "      <td>Jan</td>\n",
       "      <td>1999</td>\n",
       "      <td>Tennessee</td>\n",
       "      <td>0.0</td>\n",
       "      <td>0.0</td>\n",
       "      <td>9581.0</td>\n",
       "      <td>8696.0</td>\n",
       "      <td>0.0</td>\n",
       "      <td>0.0</td>\n",
       "      <td>0.0</td>\n",
       "      <td>...</td>\n",
       "      <td>0.0</td>\n",
       "      <td>0.0</td>\n",
       "      <td>0.0</td>\n",
       "      <td>0.0</td>\n",
       "      <td>0.0</td>\n",
       "      <td>0.0</td>\n",
       "      <td>0.0</td>\n",
       "      <td>0.0</td>\n",
       "      <td>18473</td>\n",
       "      <td>1999-01-01</td>\n",
       "    </tr>\n",
       "    <tr>\n",
       "      <th>14566</th>\n",
       "      <td>Jan</td>\n",
       "      <td>1999</td>\n",
       "      <td>Texas</td>\n",
       "      <td>5792.0</td>\n",
       "      <td>0.0</td>\n",
       "      <td>18123.0</td>\n",
       "      <td>26179.0</td>\n",
       "      <td>0.0</td>\n",
       "      <td>0.0</td>\n",
       "      <td>0.0</td>\n",
       "      <td>...</td>\n",
       "      <td>0.0</td>\n",
       "      <td>0.0</td>\n",
       "      <td>0.0</td>\n",
       "      <td>0.0</td>\n",
       "      <td>0.0</td>\n",
       "      <td>0.0</td>\n",
       "      <td>0.0</td>\n",
       "      <td>0.0</td>\n",
       "      <td>50992</td>\n",
       "      <td>1999-01-01</td>\n",
       "    </tr>\n",
       "    <tr>\n",
       "      <th>14567</th>\n",
       "      <td>Jan</td>\n",
       "      <td>1999</td>\n",
       "      <td>Utah</td>\n",
       "      <td>0.0</td>\n",
       "      <td>0.0</td>\n",
       "      <td>2041.0</td>\n",
       "      <td>2936.0</td>\n",
       "      <td>0.0</td>\n",
       "      <td>0.0</td>\n",
       "      <td>0.0</td>\n",
       "      <td>...</td>\n",
       "      <td>0.0</td>\n",
       "      <td>0.0</td>\n",
       "      <td>0.0</td>\n",
       "      <td>0.0</td>\n",
       "      <td>0.0</td>\n",
       "      <td>0.0</td>\n",
       "      <td>0.0</td>\n",
       "      <td>0.0</td>\n",
       "      <td>5055</td>\n",
       "      <td>1999-01-01</td>\n",
       "    </tr>\n",
       "    <tr>\n",
       "      <th>14568</th>\n",
       "      <td>Jan</td>\n",
       "      <td>1999</td>\n",
       "      <td>Vermont</td>\n",
       "      <td>0.0</td>\n",
       "      <td>0.0</td>\n",
       "      <td>427.0</td>\n",
       "      <td>605.0</td>\n",
       "      <td>0.0</td>\n",
       "      <td>0.0</td>\n",
       "      <td>0.0</td>\n",
       "      <td>...</td>\n",
       "      <td>0.0</td>\n",
       "      <td>0.0</td>\n",
       "      <td>0.0</td>\n",
       "      <td>0.0</td>\n",
       "      <td>0.0</td>\n",
       "      <td>0.0</td>\n",
       "      <td>0.0</td>\n",
       "      <td>0.0</td>\n",
       "      <td>1043</td>\n",
       "      <td>1999-01-01</td>\n",
       "    </tr>\n",
       "    <tr>\n",
       "      <th>14569</th>\n",
       "      <td>Jan</td>\n",
       "      <td>1999</td>\n",
       "      <td>Virgin Islands</td>\n",
       "      <td>0.0</td>\n",
       "      <td>0.0</td>\n",
       "      <td>0.0</td>\n",
       "      <td>0.0</td>\n",
       "      <td>0.0</td>\n",
       "      <td>0.0</td>\n",
       "      <td>0.0</td>\n",
       "      <td>...</td>\n",
       "      <td>0.0</td>\n",
       "      <td>0.0</td>\n",
       "      <td>0.0</td>\n",
       "      <td>0.0</td>\n",
       "      <td>0.0</td>\n",
       "      <td>0.0</td>\n",
       "      <td>0.0</td>\n",
       "      <td>0.0</td>\n",
       "      <td>0</td>\n",
       "      <td>1999-01-01</td>\n",
       "    </tr>\n",
       "    <tr>\n",
       "      <th>14570</th>\n",
       "      <td>Jan</td>\n",
       "      <td>1999</td>\n",
       "      <td>Virginia</td>\n",
       "      <td>0.0</td>\n",
       "      <td>0.0</td>\n",
       "      <td>6298.0</td>\n",
       "      <td>7556.0</td>\n",
       "      <td>0.0</td>\n",
       "      <td>0.0</td>\n",
       "      <td>0.0</td>\n",
       "      <td>...</td>\n",
       "      <td>0.0</td>\n",
       "      <td>0.0</td>\n",
       "      <td>0.0</td>\n",
       "      <td>0.0</td>\n",
       "      <td>0.0</td>\n",
       "      <td>0.0</td>\n",
       "      <td>0.0</td>\n",
       "      <td>0.0</td>\n",
       "      <td>14009</td>\n",
       "      <td>1999-01-01</td>\n",
       "    </tr>\n",
       "    <tr>\n",
       "      <th>14571</th>\n",
       "      <td>Jan</td>\n",
       "      <td>1999</td>\n",
       "      <td>Washington</td>\n",
       "      <td>800.0</td>\n",
       "      <td>0.0</td>\n",
       "      <td>1891.0</td>\n",
       "      <td>5780.0</td>\n",
       "      <td>0.0</td>\n",
       "      <td>0.0</td>\n",
       "      <td>0.0</td>\n",
       "      <td>...</td>\n",
       "      <td>0.0</td>\n",
       "      <td>0.0</td>\n",
       "      <td>0.0</td>\n",
       "      <td>0.0</td>\n",
       "      <td>0.0</td>\n",
       "      <td>0.0</td>\n",
       "      <td>0.0</td>\n",
       "      <td>0.0</td>\n",
       "      <td>8695</td>\n",
       "      <td>1999-01-01</td>\n",
       "    </tr>\n",
       "    <tr>\n",
       "      <th>14572</th>\n",
       "      <td>Jan</td>\n",
       "      <td>1999</td>\n",
       "      <td>West Virginia</td>\n",
       "      <td>0.0</td>\n",
       "      <td>0.0</td>\n",
       "      <td>2989.0</td>\n",
       "      <td>5118.0</td>\n",
       "      <td>0.0</td>\n",
       "      <td>0.0</td>\n",
       "      <td>0.0</td>\n",
       "      <td>...</td>\n",
       "      <td>0.0</td>\n",
       "      <td>0.0</td>\n",
       "      <td>0.0</td>\n",
       "      <td>0.0</td>\n",
       "      <td>0.0</td>\n",
       "      <td>0.0</td>\n",
       "      <td>0.0</td>\n",
       "      <td>0.0</td>\n",
       "      <td>8260</td>\n",
       "      <td>1999-01-01</td>\n",
       "    </tr>\n",
       "    <tr>\n",
       "      <th>14573</th>\n",
       "      <td>Jan</td>\n",
       "      <td>1999</td>\n",
       "      <td>Wisconsin</td>\n",
       "      <td>0.0</td>\n",
       "      <td>0.0</td>\n",
       "      <td>2709.0</td>\n",
       "      <td>5063.0</td>\n",
       "      <td>0.0</td>\n",
       "      <td>0.0</td>\n",
       "      <td>0.0</td>\n",
       "      <td>...</td>\n",
       "      <td>0.0</td>\n",
       "      <td>0.0</td>\n",
       "      <td>0.0</td>\n",
       "      <td>0.0</td>\n",
       "      <td>0.0</td>\n",
       "      <td>0.0</td>\n",
       "      <td>0.0</td>\n",
       "      <td>0.0</td>\n",
       "      <td>7780</td>\n",
       "      <td>1999-01-01</td>\n",
       "    </tr>\n",
       "    <tr>\n",
       "      <th>14574</th>\n",
       "      <td>Jan</td>\n",
       "      <td>1999</td>\n",
       "      <td>Wyoming</td>\n",
       "      <td>67.0</td>\n",
       "      <td>0.0</td>\n",
       "      <td>668.0</td>\n",
       "      <td>1401.0</td>\n",
       "      <td>0.0</td>\n",
       "      <td>0.0</td>\n",
       "      <td>0.0</td>\n",
       "      <td>...</td>\n",
       "      <td>0.0</td>\n",
       "      <td>0.0</td>\n",
       "      <td>0.0</td>\n",
       "      <td>0.0</td>\n",
       "      <td>0.0</td>\n",
       "      <td>0.0</td>\n",
       "      <td>0.0</td>\n",
       "      <td>0.0</td>\n",
       "      <td>2180</td>\n",
       "      <td>1999-01-01</td>\n",
       "    </tr>\n",
       "  </tbody>\n",
       "</table>\n",
       "<p>10 rows × 27 columns</p>\n",
       "</div>"
      ],
      "text/plain": [
       "      month  year           state  permit  permit_recheck  handgun  long_gun  \\\n",
       "14565   Jan  1999       Tennessee     0.0             0.0   9581.0    8696.0   \n",
       "14566   Jan  1999           Texas  5792.0             0.0  18123.0   26179.0   \n",
       "14567   Jan  1999            Utah     0.0             0.0   2041.0    2936.0   \n",
       "14568   Jan  1999         Vermont     0.0             0.0    427.0     605.0   \n",
       "14569   Jan  1999  Virgin Islands     0.0             0.0      0.0       0.0   \n",
       "14570   Jan  1999        Virginia     0.0             0.0   6298.0    7556.0   \n",
       "14571   Jan  1999      Washington   800.0             0.0   1891.0    5780.0   \n",
       "14572   Jan  1999   West Virginia     0.0             0.0   2989.0    5118.0   \n",
       "14573   Jan  1999       Wisconsin     0.0             0.0   2709.0    5063.0   \n",
       "14574   Jan  1999         Wyoming    67.0             0.0    668.0    1401.0   \n",
       "\n",
       "       other  prepawn_handgun  prepawn_long_gun    ...      rentals_handgun  \\\n",
       "14565    0.0              0.0               0.0    ...                  0.0   \n",
       "14566    0.0              0.0               0.0    ...                  0.0   \n",
       "14567    0.0              0.0               0.0    ...                  0.0   \n",
       "14568    0.0              0.0               0.0    ...                  0.0   \n",
       "14569    0.0              0.0               0.0    ...                  0.0   \n",
       "14570    0.0              0.0               0.0    ...                  0.0   \n",
       "14571    0.0              0.0               0.0    ...                  0.0   \n",
       "14572    0.0              0.0               0.0    ...                  0.0   \n",
       "14573    0.0              0.0               0.0    ...                  0.0   \n",
       "14574    0.0              0.0               0.0    ...                  0.0   \n",
       "\n",
       "       rentals_long_gun  private_sale_handgun  private_sale_long_gun  \\\n",
       "14565               0.0                   0.0                    0.0   \n",
       "14566               0.0                   0.0                    0.0   \n",
       "14567               0.0                   0.0                    0.0   \n",
       "14568               0.0                   0.0                    0.0   \n",
       "14569               0.0                   0.0                    0.0   \n",
       "14570               0.0                   0.0                    0.0   \n",
       "14571               0.0                   0.0                    0.0   \n",
       "14572               0.0                   0.0                    0.0   \n",
       "14573               0.0                   0.0                    0.0   \n",
       "14574               0.0                   0.0                    0.0   \n",
       "\n",
       "       private_sale_other  return_to_seller_handgun  \\\n",
       "14565                 0.0                       0.0   \n",
       "14566                 0.0                       0.0   \n",
       "14567                 0.0                       0.0   \n",
       "14568                 0.0                       0.0   \n",
       "14569                 0.0                       0.0   \n",
       "14570                 0.0                       0.0   \n",
       "14571                 0.0                       0.0   \n",
       "14572                 0.0                       0.0   \n",
       "14573                 0.0                       0.0   \n",
       "14574                 0.0                       0.0   \n",
       "\n",
       "       return_to_seller_long_gun  return_to_seller_other  totals       date  \n",
       "14565                        0.0                     0.0   18473 1999-01-01  \n",
       "14566                        0.0                     0.0   50992 1999-01-01  \n",
       "14567                        0.0                     0.0    5055 1999-01-01  \n",
       "14568                        0.0                     0.0    1043 1999-01-01  \n",
       "14569                        0.0                     0.0       0 1999-01-01  \n",
       "14570                        0.0                     0.0   14009 1999-01-01  \n",
       "14571                        0.0                     0.0    8695 1999-01-01  \n",
       "14572                        0.0                     0.0    8260 1999-01-01  \n",
       "14573                        0.0                     0.0    7780 1999-01-01  \n",
       "14574                        0.0                     0.0    2180 1999-01-01  \n",
       "\n",
       "[10 rows x 27 columns]"
      ]
     },
     "execution_count": 62,
     "metadata": {},
     "output_type": "execute_result"
    }
   ],
   "source": [
    "df.drop(df[df[\"year\"]==1998].index,inplace=True)\n",
    "df.tail(10)"
   ]
  },
  {
   "cell_type": "code",
   "execution_count": 63,
   "metadata": {},
   "outputs": [
    {
     "data": {
      "text/plain": [
       "Text(0,0.5,'Total Gun Registrations')"
      ]
     },
     "execution_count": 63,
     "metadata": {},
     "output_type": "execute_result"
    },
    {
     "data": {
      "image/png": "[encoded data removed]",
      "text/plain": [
       "<matplotlib.figure.Figure at 0x7f66aa8334a8>"
      ]
     },
     "metadata": {
      "needs_background": "light"
     },
     "output_type": "display_data"
    }
   ],
   "source": [
    "df_year.plot(kind=\"bar\",figsize=(10,12))\n",
    "plt.title(\"Total Number of Gun Registration from 1999-2020\")\n",
    "plt.xlabel(\"Year\")\n",
    "plt.ylabel(\"Total Gun Registrations\")\n"
   ]
  },
  {
   "cell_type": "markdown",
   "metadata": {},
   "source": [
    "Redefining df_years as df_year to drop \"1998\" from the bar graph"
   ]
  },
  {
   "cell_type": "code",
   "execution_count": 64,
   "metadata": {},
   "outputs": [],
   "source": [
    "df_year=df.groupby(\"year\")[\"totals\"].sum()"
   ]
  },
  {
   "cell_type": "code",
   "execution_count": 65,
   "metadata": {},
   "outputs": [
    {
     "name": "stdout",
     "output_type": "stream",
     "text": [
      "year\n",
      "2020    39326079\n",
      "2019    28007320\n",
      "2016    27425512\n",
      "2018    25769441\n",
      "2017    24955919\n",
      "2015    23026288\n",
      "2013    20966704\n",
      "2014    20860241\n",
      "2012    19463832\n",
      "2011    16336732\n",
      "2010    14320489\n",
      "2009    13984953\n",
      "2008    12692985\n",
      "2007    11162272\n",
      "2006     9993057\n",
      "1999     9043747\n",
      "2005     8867055\n",
      "2001     8820045\n",
      "2004     8579891\n",
      "2000     8427096\n",
      "2003     8402244\n",
      "2002     8367069\n",
      "Name: totals, dtype: int64\n"
     ]
    }
   ],
   "source": [
    "#Number of gun registration\n",
    "print(df_year.sort_values(ascending=False))"
   ]
  },
  {
   "cell_type": "code",
   "execution_count": 66,
   "metadata": {},
   "outputs": [
    {
     "data": {
      "text/plain": [
       "Text(0,0.5,'Gun Registrations (in 10 millions)')"
      ]
     },
     "execution_count": 66,
     "metadata": {},
     "output_type": "execute_result"
    },
    {
     "data": {
      "image/png": "[encoded data removed]",
      "text/plain": [
       "<matplotlib.figure.Figure at 0x7f66aa8fd9b0>"
      ]
     },
     "metadata": {
      "needs_background": "light"
     },
     "output_type": "display_data"
    }
   ],
   "source": [
    "df_year.plot(kind=\"bar\",figsize=(12,12))\n",
    "plt.title(\"Total Number of Gun Registration from 1999-2020\")\n",
    "plt.xlabel(\"Year\")\n",
    "plt.ylabel(\"Gun Registrations (in 10 millions)\")\n"
   ]
  },
  {
   "cell_type": "code",
   "execution_count": 67,
   "metadata": {},
   "outputs": [
    {
     "name": "stdout",
     "output_type": "stream",
     "text": [
      "year\n",
      "2020    39326079\n",
      "2019    28007320\n",
      "2016    27425512\n",
      "2018    25769441\n",
      "2017    24955919\n",
      "2015    23026288\n",
      "2013    20966704\n",
      "2014    20860241\n",
      "2012    19463832\n",
      "2011    16336732\n",
      "2010    14320489\n",
      "2009    13984953\n",
      "2008    12692985\n",
      "2007    11162272\n",
      "2006     9993057\n",
      "1999     9043747\n",
      "2005     8867055\n",
      "2001     8820045\n",
      "2004     8579891\n",
      "2000     8427096\n",
      "2003     8402244\n",
      "2002     8367069\n",
      "Name: totals, dtype: int64\n"
     ]
    }
   ],
   "source": [
    "#Number of gun registration\n",
    "print(df_year.sort_values(ascending=False))"
   ]
  },
  {
   "cell_type": "code",
   "execution_count": 36,
   "metadata": {},
   "outputs": [
    {
     "data": {
      "text/plain": [
       "Text(0,0.5,'Gun Registrations (in 10 millions)')"
      ]
     },
     "execution_count": 36,
     "metadata": {},
     "output_type": "execute_result"
    },
    {
     "data": {
      "image/png": "[encoded data removed]",
      "text/plain": [
       "<matplotlib.figure.Figure at 0x7f0393ea0630>"
      ]
     },
     "metadata": {
      "needs_background": "light"
     },
     "output_type": "display_data"
    }
   ],
   "source": [
    "df_year.sort_values(ascending=False).plot(kind=\"bar\",figsize=(12,12))\n",
    "plt.title(\"Number of Gun Registrations 1999-2020\")\n",
    "plt.xlabel(\"Year\")\n",
    "plt.ylabel(\"Gun Registrations (in 10 millions)\")"
   ]
  },
  {
   "cell_type": "markdown",
   "metadata": {},
   "source": [
    "We found that 2020 has high gun registration. "
   ]
  },
  {
   "cell_type": "markdown",
   "metadata": {},
   "source": [
    "Trend of gun registration\n"
   ]
  },
  {
   "cell_type": "code",
   "execution_count": 68,
   "metadata": {},
   "outputs": [
    {
     "data": {
      "text/plain": [
       "Text(0,0.5,'Gun Registrations (in 10 millions)')"
      ]
     },
     "execution_count": 68,
     "metadata": {},
     "output_type": "execute_result"
    },
    {
     "data": {
      "image/png": "[encoded data removed]",
      "text/plain": [
       "<matplotlib.figure.Figure at 0x7f66aa70ea90>"
      ]
     },
     "metadata": {
      "needs_background": "light"
     },
     "output_type": "display_data"
    }
   ],
   "source": [
    "# lineplot\n",
    "df_year.plot.line(figsize=(12,12))\n",
    "plt.title(\"Trend of Gun Registration 1999-2020\")\n",
    "plt.xlabel(\"Year(1999-2020)\")\n",
    "plt.ylabel(\"Gun Registrations (in 10 millions)\")"
   ]
  },
  {
   "cell_type": "markdown",
   "metadata": {},
   "source": [
    "Grouping gun registration by month"
   ]
  },
  {
   "cell_type": "code",
   "execution_count": 69,
   "metadata": {},
   "outputs": [
    {
     "name": "stdout",
     "output_type": "stream",
     "text": [
      "month\n",
      "Dec    41347200\n",
      "Nov    35343142\n",
      "Mar    34426297\n",
      "Oct    32106910\n",
      "Feb    31484879\n",
      "Jan    29393660\n",
      "Apr    28692004\n",
      "Sep    28565719\n",
      "Aug    28319398\n",
      "Jun    26680971\n",
      "May    26289204\n",
      "Jul    26149587\n",
      "Name: totals, dtype: int64\n"
     ]
    }
   ],
   "source": [
    "# group totals by month and sort values in descending\n",
    "df_month=df.groupby(\"month\")[\"totals\"].sum().sort_values(ascending=False)\n",
    "print(df_month)"
   ]
  },
  {
   "cell_type": "code",
   "execution_count": 70,
   "metadata": {},
   "outputs": [
    {
     "data": {
      "text/plain": [
       "Text(0,0.5,'Number of Gun Registrations (in 10 millions)')"
      ]
     },
     "execution_count": 70,
     "metadata": {},
     "output_type": "execute_result"
    },
    {
     "data": {
      "image/png": "[encoded data removed]",
      "text/plain": [
       "<matplotlib.figure.Figure at 0x7f66aa71d630>"
      ]
     },
     "metadata": {
      "needs_background": "light"
     },
     "output_type": "display_data"
    }
   ],
   "source": [
    "df_month.plot(kind=\"bar\",figsize=(12,12))\n",
    "plt.title(\"Number of Gun Registration per Month\")\n",
    "plt.xlabel(\"Month\")\n",
    "plt.ylabel(\"Number of Gun Registrations (in 10 millions)\")"
   ]
  },
  {
   "cell_type": "markdown",
   "metadata": {},
   "source": [
    "We found that On December there was highest gun registration."
   ]
  },
  {
   "cell_type": "markdown",
   "metadata": {},
   "source": []
  },
  {
   "cell_type": "markdown",
   "metadata": {},
   "source": [
    "### 2. Which states have had highest growth in gun registration?\n"
   ]
  },
  {
   "cell_type": "code",
   "execution_count": 71,
   "metadata": {},
   "outputs": [],
   "source": [
    "# Continue to explore the data to address your additional research\n",
    "#   questions. Add more headers as needed if you have more questions to\n",
    "#   investigate.\n"
   ]
  },
  {
   "cell_type": "code",
   "execution_count": 72,
   "metadata": {},
   "outputs": [],
   "source": [
    "# data from 2020 \n",
    "df_2020 = df[df[\"year\"] == 2020]"
   ]
  },
  {
   "cell_type": "code",
   "execution_count": 73,
   "metadata": {},
   "outputs": [],
   "source": [
    "# data_2020 groupby state and get totals\n",
    "df_2020_state = df_2020.groupby(\"state\")[\"totals\"].sum()"
   ]
  },
  {
   "cell_type": "code",
   "execution_count": 74,
   "metadata": {},
   "outputs": [
    {
     "data": {
      "text/plain": [
       "state\n",
       "Illinois        7455065\n",
       "Kentucky        3330462\n",
       "Texas           2325281\n",
       "Indiana         1935587\n",
       "Florida         1912204\n",
       "California      1601054\n",
       "Pennsylvania    1452921\n",
       "Utah            1216773\n",
       "Alabama         1085475\n",
       "Michigan        1068511\n",
       "Name: totals, dtype: int64"
      ]
     },
     "execution_count": 74,
     "metadata": {},
     "output_type": "execute_result"
    }
   ],
   "source": [
    "# top 10 states from 2020\n",
    "df_2020_state.sort_values(ascending=False).head(10)"
   ]
  },
  {
   "cell_type": "code",
   "execution_count": 75,
   "metadata": {},
   "outputs": [],
   "source": [
    "# data from 1999\n",
    "df_1999 = df[df[\"year\"]==1999]"
   ]
  },
  {
   "cell_type": "code",
   "execution_count": 76,
   "metadata": {},
   "outputs": [],
   "source": [
    "# data_1999 groupby state and get totals\n",
    "df_1999_state = df_1999.groupby(\"state\")[\"totals\"].sum()"
   ]
  },
  {
   "cell_type": "code",
   "execution_count": 79,
   "metadata": {},
   "outputs": [
    {
     "data": {
      "text/plain": [
       "state\n",
       "Illinois        6970217\n",
       "Kentucky        3082250\n",
       "Indiana         1732405\n",
       "Florida         1632504\n",
       "Texas           1615256\n",
       "Utah            1139055\n",
       "Pennsylvania     911366\n",
       "Alabama          838719\n",
       "Minnesota        780462\n",
       "Michigan         760742\n",
       "Name: totals, dtype: int64"
      ]
     },
     "execution_count": 79,
     "metadata": {},
     "output_type": "execute_result"
    }
   ],
   "source": [
    "# total growth from 1999 to 2020 in states\n",
    "df_growth= df_2020_state - df_1999_state\n",
    "\n",
    "# growth in decending order\n",
    "df_growth_decending=df_growth.sort_values(ascending=False)\n",
    "\n",
    "# top 10 highest growth\n",
    "df_growth_decending.head(10)"
   ]
  },
  {
   "cell_type": "code",
   "execution_count": 80,
   "metadata": {},
   "outputs": [
    {
     "data": {
      "text/plain": [
       "'Illinois'"
      ]
     },
     "execution_count": 80,
     "metadata": {},
     "output_type": "execute_result"
    }
   ],
   "source": [
    "# finding highest growth state\n",
    "df_growth_decending.idxmax()\n"
   ]
  },
  {
   "cell_type": "markdown",
   "metadata": {},
   "source": [
    "Illinois state had the highest number of gun registration. From 1999 to 2020, in Illinois, gun registration increased by 6970217."
   ]
  },
  {
   "cell_type": "markdown",
   "metadata": {},
   "source": [
    "# Types of gun"
   ]
  },
  {
   "cell_type": "code",
   "execution_count": 81,
   "metadata": {},
   "outputs": [],
   "source": [
    "# df of all handgun from all registration\n",
    "df_handgun=df.filter(regex=\"handgun\")\n"
   ]
  },
  {
   "cell_type": "code",
   "execution_count": 82,
   "metadata": {},
   "outputs": [
    {
     "data": {
      "text/plain": [
       "handgun                     101093159.0\n",
       "prepawn_handgun                 65410.0\n",
       "redemption_handgun            5626371.0\n",
       "returned_handgun               235198.0\n",
       "rentals_handgun                   462.0\n",
       "private_sale_handgun           124895.0\n",
       "return_to_seller_handgun         4107.0\n",
       "dtype: float64"
      ]
     },
     "execution_count": 82,
     "metadata": {},
     "output_type": "execute_result"
    }
   ],
   "source": [
    "# sum of all handgun\n",
    "df_handgun.sum()"
   ]
  },
  {
   "cell_type": "code",
   "execution_count": 83,
   "metadata": {},
   "outputs": [],
   "source": [
    "total_handgun=df_handgun.sum().sum()"
   ]
  },
  {
   "cell_type": "code",
   "execution_count": 84,
   "metadata": {},
   "outputs": [],
   "source": [
    "# df of longgun and sum of all long_gun registration\n",
    "df_long_gun=df.filter(regex=\"long_gun\")\n",
    "total_longgun=df_long_gun.sum().sum()"
   ]
  },
  {
   "cell_type": "code",
   "execution_count": 85,
   "metadata": {},
   "outputs": [],
   "source": [
    "# df of other and sum of all other \n",
    "df_other=df.filter(regex=\"other\")\n",
    "total_other=df_other.sum().sum()"
   ]
  },
  {
   "cell_type": "code",
   "execution_count": 87,
   "metadata": {},
   "outputs": [
    {
     "data": {
      "text/html": [
       "<div>\n",
       "<style scoped>\n",
       "    .dataframe tbody tr th:only-of-type {\n",
       "        vertical-align: middle;\n",
       "    }\n",
       "\n",
       "    .dataframe tbody tr th {\n",
       "        vertical-align: top;\n",
       "    }\n",
       "\n",
       "    .dataframe thead th {\n",
       "        text-align: right;\n",
       "    }\n",
       "</style>\n",
       "<table border=\"1\" class=\"dataframe\">\n",
       "  <thead>\n",
       "    <tr style=\"text-align: right;\">\n",
       "      <th></th>\n",
       "      <th>total_gun_type</th>\n",
       "      <th>gun_type</th>\n",
       "    </tr>\n",
       "  </thead>\n",
       "  <tbody>\n",
       "    <tr>\n",
       "      <th>0</th>\n",
       "      <td>107149602.0</td>\n",
       "      <td>total_handgun</td>\n",
       "    </tr>\n",
       "    <tr>\n",
       "      <th>1</th>\n",
       "      <td>122923200.0</td>\n",
       "      <td>total_longgun</td>\n",
       "    </tr>\n",
       "    <tr>\n",
       "      <th>2</th>\n",
       "      <td>4044955.0</td>\n",
       "      <td>total_other</td>\n",
       "    </tr>\n",
       "  </tbody>\n",
       "</table>\n",
       "</div>"
      ],
      "text/plain": [
       "   total_gun_type       gun_type\n",
       "0     107149602.0  total_handgun\n",
       "1     122923200.0  total_longgun\n",
       "2       4044955.0    total_other"
      ]
     },
     "execution_count": 87,
     "metadata": {},
     "output_type": "execute_result"
    }
   ],
   "source": [
    "# dataframe of  sum of different types of guns\n",
    "df_gun=pd.DataFrame({\"total_gun_type\":[total_handgun,total_longgun,total_other],\"gun_type\":[\"total_handgun\",\"total_longgun\",\"total_other\"]})\n",
    "df_gun"
   ]
  },
  {
   "cell_type": "code",
   "execution_count": 88,
   "metadata": {},
   "outputs": [
    {
     "data": {
      "text/plain": [
       "[Text(0,0.5,'Number of Registration (in 10 millions)'),\n",
       " Text(0.5,0,'Gun Types'),\n",
       " Text(0.5,1,'Registration by Gun Types (1999-2020)')]"
      ]
     },
     "execution_count": 88,
     "metadata": {},
     "output_type": "execute_result"
    },
    {
     "data": {
      "image/png": "[encoded data removed]",
      "text/plain": [
       "<matplotlib.figure.Figure at 0x7f66aa0dc860>"
      ]
     },
     "metadata": {
      "needs_background": "light"
     },
     "output_type": "display_data"
    }
   ],
   "source": [
    "plt.figure(figsize=(10,8))\n",
    "ax=sns.barplot(x=\"gun_type\",y=\"total_gun_type\",data=df_gun)\n",
    "ax.set(ylabel='Number of Registration (in 10 millions)', xlabel='Gun Types',title=\"Registration by Gun Types (1999-2020)\")"
   ]
  },
  {
   "cell_type": "markdown",
   "metadata": {},
   "source": [
    "The highest number of gun registration was for longgun. Then second highest registration was for handgun."
   ]
  },
  {
   "cell_type": "markdown",
   "metadata": {},
   "source": [
    "<a id='conclusions'></a>\n",
    "## Conclusions\n",
    "Results: Our data suggests that\n",
    "1. In year between 1990 to 2020, there was highest number of gun background registration in 2020.\n",
    "When we compared background checks for gun registration for each month, we found that December had most gun background checks.\n",
    "\n",
    "2. When we compared background checks for types of gun, we found that there was highest number of background checks for longguns, then for shortgun and the least background checks was done for other gun.\n",
    "\n",
    "3. After comparing gun registration of 1999 and 2020, it was found that Illinois state had the highest growth in gun registration.\n",
    "\n",
    "limitations:\n",
    "1. We do not have lots of factors that could contribute to increase in gun registration in year 2020. Similarly, there was no factors provided that could lead to increase gun registraion in month of December.\n",
    "\n",
    "2. All missing values were replaced by zero because replacing with mean of the specific column could lead to changed in total number of gun registrations in column name \"totals\".\n",
    "\n",
    "3. There was limitation on finding factors that lead certain states to have higher gun registrations. Many factors such as population, unemployment, hunting regions, and crime rate could lead to have higher gun registrations.\n",
    "\n",
    "Discussion:\n",
    "There was no duplicate rows on this dataset. There data was already been cleaned for duplicates.\n",
    "\n",
    "Outliers:\n",
    "The data set has no outliers that could affect my findings. I checked this by using histogram.\n",
    "\n",
    "> **Tip**: Finally, summarize your findings and the results that have been performed. Make sure that you are clear with regards to the limitations of your exploration. If you haven't done any statistical tests, do not imply any statistical conclusions. And make sure you avoid implying causation from correlation!\n",
    "\n",
    "> **Tip**: Once you are satisfied with your work here, check over your report to make sure that it is satisfies all the areas of the rubric (found on the project submission page at the end of the lesson). You should also probably remove all of the \"Tips\" like this one so that the presentation is as polished as possible.\n",
    "\n",
    "## Submitting your Project \n",
    "\n",
    "> Before you submit your project, you need to create a .html or .pdf version of this notebook in the workspace here. To do that, run the code cell below. If it worked correctly, you should get a return code of 0, and you should see the generated .html file in the workspace directory (click on the orange Jupyter icon in the upper left).\n",
    "\n",
    "> Alternatively, you can download this report as .html via the **File** > **Download as** submenu, and then manually upload it into the workspace directory by clicking on the orange Jupyter icon in the upper left, then using the Upload button.\n",
    "\n",
    "> Once you've done this, you can submit your project by clicking on the \"Submit Project\" button in the lower right here. This will create and submit a zip file with this .ipynb doc and the .html or .pdf version you created. Congratulations!"
   ]
  },
  {
   "cell_type": "code",
   "execution_count": 10,
   "metadata": {},
   "outputs": [
    {
     "data": {
      "text/plain": [
       "0"
      ]
     },
     "execution_count": 10,
     "metadata": {},
     "output_type": "execute_result"
    }
   ],
   "source": [
    "from subprocess import call\n",
    "call(['python', '-m', 'nbconvert', 'Investigate_a_Dataset.ipynb'])"
   ]
  },
  {
   "cell_type": "code",
   "execution_count": null,
   "metadata": {},
   "outputs": [],
   "source": []
  }
 ],
 "metadata": {
  "kernelspec": {
   "display_name": "Python 3",
   "language": "python",
   "name": "python3"
  },
  "language_info": {
   "codemirror_mode": {
    "name": "ipython",
    "version": 3
   },
   "file_extension": ".py",
   "mimetype": "text/x-python",
   "name": "python",
   "nbconvert_exporter": "python",
   "pygments_lexer": "ipython3",
   "version": "3.6.3"
  }
 },
 "nbformat": 4,
 "nbformat_minor": 2
}
